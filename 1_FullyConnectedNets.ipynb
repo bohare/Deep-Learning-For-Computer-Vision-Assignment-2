{
 "metadata": {
  "kernelspec": {
   "display_name": "Python 2",
   "language": "python",
   "name": "python2"
  },
  "language_info": {
   "codemirror_mode": {
    "name": "ipython",
    "version": 2
   },
   "file_extension": ".py",
   "mimetype": "text/x-python",
   "name": "python",
   "nbconvert_exporter": "python",
   "pygments_lexer": "ipython2",
   "version": "2.7.13"
  },
  "name": "",
  "signature": "sha256:29e0f2f0017f6757e4910269ca13ccb5be34ff8764fb70e28a108f1f3a34dc81"
 },
 "nbformat": 3,
 "nbformat_minor": 0,
 "worksheets": [
  {
   "cells": [
    {
     "cell_type": "markdown",
     "metadata": {},
     "source": [
      "# Fully-Connected Neural Nets\n",
      "In the previous homework you implemented a fully-connected two-layer neural network on CIFAR-10. The implementation was simple but not very modular since the loss and gradient were computed in a single monolithic function. This is manageable for a simple two-layer network, but would become impractical as we move to bigger models. Ideally we want to build networks using a more modular design so that we can implement different layer types in isolation and then snap them together into models with different architectures.\n",
      "\n",
      "In this exercise we will implement fully-connected networks using a more modular approach. For each layer we will implement a `forward` and a `backward` function. The `forward` function will receive inputs, weights, and other parameters and will return both an output and a `cache` object storing data needed for the backward pass, like this:\n",
      "\n",
      "```python\n",
      "def layer_forward(x, w):\n",
      "  \"\"\" Receive inputs x and weights w \"\"\"\n",
      "  # Do some computations ...\n",
      "  z = # ... some intermediate value\n",
      "  # Do some more computations ...\n",
      "  out = # the output\n",
      "   \n",
      "  cache = (x, w, z, out) # Values we need to compute gradients\n",
      "   \n",
      "  return out, cache\n",
      "```\n",
      "\n",
      "The backward pass will receive upstream derivatives and the `cache` object, and will return gradients with respect to the inputs and weights, like this:\n",
      "\n",
      "```python\n",
      "def layer_backward(dout, cache):\n",
      "  \"\"\"\n",
      "  Receive derivative of loss with respect to outputs and cache,\n",
      "  and compute derivative with respect to inputs.\n",
      "  \"\"\"\n",
      "  # Unpack cache values\n",
      "  x, w, z, out = cache\n",
      "  \n",
      "  # Use values in cache to compute derivatives\n",
      "  dx = # Derivative of loss with respect to x\n",
      "  dw = # Derivative of loss with respect to w\n",
      "  \n",
      "  return dx, dw\n",
      "```\n",
      "\n",
      "After implementing a bunch of layers this way, we will be able to easily combine them to build classifiers with different architectures.\n",
      "\n",
      "In addition to implementing fully-connected networks of arbitrary depth, we will also explore different update rules for optimization, and introduce Dropout as a regularizer and Batch Normalization as a tool to more efficiently optimize deep networks.\n",
      "  "
     ]
    },
    {
     "cell_type": "code",
     "collapsed": true,
     "input": [
      "# As usual, a bit of setup\n",
      "\n",
      "import time\n",
      "import numpy as np\n",
      "import matplotlib.pyplot as plt\n",
      "from dl4cv.classifiers.fc_net import *\n",
      "from dl4cv.data_utils import get_CIFAR10_data\n",
      "from dl4cv.gradient_check import eval_numerical_gradient, eval_numerical_gradient_array\n",
      "from dl4cv.solver import Solver\n",
      "\n",
      "%matplotlib inline\n",
      "plt.rcParams['figure.figsize'] = (10.0, 8.0) # set default size of plots\n",
      "plt.rcParams['image.interpolation'] = 'nearest'\n",
      "plt.rcParams['image.cmap'] = 'gray'\n",
      "\n",
      "# for auto-reloading external modules\n",
      "# see http://stackoverflow.com/questions/1907993/autoreload-of-modules-in-ipython\n",
      "%load_ext autoreload\n",
      "%autoreload 2\n",
      "\n",
      "def rel_error(x, y):\n",
      "  \"\"\" returns relative error \"\"\"\n",
      "  return np.max(np.abs(x - y) / (np.maximum(1e-8, np.abs(x) + np.abs(y))))"
     ],
     "language": "python",
     "metadata": {},
     "outputs": [],
     "prompt_number": 1
    },
    {
     "cell_type": "code",
     "collapsed": true,
     "input": [
      "# Load the (preprocessed) CIFAR10 data.\n",
      "\n",
      "data = get_CIFAR10_data()\n",
      "for k, v in data.iteritems():\n",
      "  print '%s: ' % k, v.shape"
     ],
     "language": "python",
     "metadata": {},
     "outputs": [
      {
       "output_type": "stream",
       "stream": "stdout",
       "text": [
        "X_val:  (1000, 3, 32, 32)"
       ]
      },
      {
       "output_type": "stream",
       "stream": "stdout",
       "text": [
        "\n",
        "X_train:  (48000, 3, 32, 32)\n",
        "X_test:  "
       ]
      },
      {
       "output_type": "stream",
       "stream": "stdout",
       "text": [
        "(1000, 3, 32, 32)\n",
        "y_val:  "
       ]
      },
      {
       "output_type": "stream",
       "stream": "stdout",
       "text": [
        "(1000,)\n",
        "y_train:  (48000,)"
       ]
      },
      {
       "output_type": "stream",
       "stream": "stdout",
       "text": [
        "\n",
        "y_test:  (1000,)\n"
       ]
      }
     ],
     "prompt_number": 2
    },
    {
     "cell_type": "markdown",
     "metadata": {},
     "source": [
      "# Affine layer: foward\n",
      "Open the file `dl4cv/layers.py` and implement the `affine_forward` function.\n",
      "\n",
      "Once you are done you can test your implementaion by running the following:"
     ]
    },
    {
     "cell_type": "code",
     "collapsed": true,
     "input": [
      "# Test the affine_forward function\n",
      "\n",
      "num_inputs = 2\n",
      "input_shape = (4, 5, 6)\n",
      "output_dim = 3\n",
      "\n",
      "input_size = num_inputs * np.prod(input_shape)\n",
      "weight_size = output_dim * np.prod(input_shape)\n",
      "\n",
      "x = np.linspace(-0.1, 0.5, num=input_size).reshape(num_inputs, *input_shape)\n",
      "w = np.linspace(-0.2, 0.3, num=weight_size).reshape(np.prod(input_shape), output_dim)\n",
      "b = np.linspace(-0.3, 0.1, num=output_dim)\n",
      "\n",
      "out, _ = affine_forward(x, w, b)\n",
      "correct_out = np.array([[ 1.49834967,  1.70660132,  1.91485297],\n",
      "                        [ 3.25553199,  3.5141327,   3.77273342]])\n",
      "\n",
      "# Compare your output with ours. The error should be around 1e-9.\n",
      "print 'Testing affine_forward function:'\n",
      "print 'difference: ', rel_error(out, correct_out)"
     ],
     "language": "python",
     "metadata": {},
     "outputs": [
      {
       "output_type": "stream",
       "stream": "stdout",
       "text": [
        "Testing affine_forward function:\n",
        "difference:  "
       ]
      },
      {
       "output_type": "stream",
       "stream": "stdout",
       "text": [
        "9.76985004799e-10\n"
       ]
      }
     ],
     "prompt_number": 3
    },
    {
     "cell_type": "markdown",
     "metadata": {},
     "source": [
      "# Affine layer: backward\n",
      "Now implement the `affine_backward` function and test your implementation using numeric gradient checking."
     ]
    },
    {
     "cell_type": "code",
     "collapsed": true,
     "input": [
      "# Test the affine_backward function\n",
      "\n",
      "x = np.random.randn(10, 2, 3)\n",
      "w = np.random.randn(6, 5)\n",
      "b = np.random.randn(5)\n",
      "dout = np.random.randn(10, 5)\n",
      "\n",
      "dx_num = eval_numerical_gradient_array(lambda x: affine_forward(x, w, b)[0], x, dout)\n",
      "dw_num = eval_numerical_gradient_array(lambda w: affine_forward(x, w, b)[0], w, dout)\n",
      "db_num = eval_numerical_gradient_array(lambda b: affine_forward(x, w, b)[0], b, dout)\n",
      "\n",
      "_, cache = affine_forward(x, w, b)\n",
      "dx, dw, db = affine_backward(dout, cache)\n",
      "\n",
      "# The error should be around 1e-10\n",
      "print 'Testing affine_backward function:'\n",
      "print 'dx error: ', rel_error(dx_num, dx)\n",
      "print 'dw error: ', rel_error(dw_num, dw)\n",
      "print 'db error: ', rel_error(db_num, db)"
     ],
     "language": "python",
     "metadata": {},
     "outputs": [
      {
       "output_type": "stream",
       "stream": "stdout",
       "text": [
        "Testing affine_backward function:\n",
        "dx error:  2.70744955031e-09\n",
        "dw error:  1.17205578494e-10\n",
        "db error:  1.22079910082e-10\n"
       ]
      }
     ],
     "prompt_number": 4
    },
    {
     "cell_type": "markdown",
     "metadata": {},
     "source": [
      "# ReLU layer: forward\n",
      "Implement the forward pass for the ReLU activation function in the `relu_forward` function and test your implementation using the following:"
     ]
    },
    {
     "cell_type": "code",
     "collapsed": true,
     "input": [
      "# Test the relu_forward function\n",
      "\n",
      "x = np.linspace(-0.5, 0.5, num=12).reshape(3, 4)\n",
      "\n",
      "out, _ = relu_forward(x)\n",
      "correct_out = np.array([[ 0.,          0.,          0.,          0.,        ],\n",
      "                        [ 0.,          0.,          0.04545455,  0.13636364,],\n",
      "                        [ 0.22727273,  0.31818182,  0.40909091,  0.5,       ]])\n",
      "\n",
      "# Compare your output with ours. The error should be around 1e-8\n",
      "print 'Testing relu_forward function:'\n",
      "print 'difference: ', rel_error(out, correct_out)"
     ],
     "language": "python",
     "metadata": {},
     "outputs": [
      {
       "output_type": "stream",
       "stream": "stdout",
       "text": [
        "Testing relu_forward function:\n",
        "difference:  4.99999979802e-08\n"
       ]
      }
     ],
     "prompt_number": 5
    },
    {
     "cell_type": "markdown",
     "metadata": {},
     "source": [
      "# ReLU layer: backward\n",
      "Now implement the backward pass for the ReLU activation function in the `relu_backward` function and test your implementation using numeric gradient checking:"
     ]
    },
    {
     "cell_type": "code",
     "collapsed": true,
     "input": [
      "x = np.random.randn(10, 10)\n",
      "dout = np.random.randn(*x.shape)\n",
      "\n",
      "dx_num = eval_numerical_gradient_array(lambda x: relu_forward(x)[0], x, dout)\n",
      "\n",
      "_, cache = relu_forward(x)\n",
      "dx = relu_backward(dout, cache)\n",
      "\n",
      "# The error should be around 1e-12\n",
      "print 'Testing relu_backward function:'\n",
      "print 'dx error: ', rel_error(dx_num, dx)"
     ],
     "language": "python",
     "metadata": {},
     "outputs": [
      {
       "output_type": "stream",
       "stream": "stdout",
       "text": [
        "Testing relu_backward function:\n",
        "dx error:  3.27561164253e-12\n"
       ]
      }
     ],
     "prompt_number": 6
    },
    {
     "cell_type": "markdown",
     "metadata": {},
     "source": [
      "# \"Sandwich\" layers\n",
      "There are some common patterns of layers that are frequently used in neural nets. For example, affine layers are frequently followed by a ReLU nonlinearity. To make these common patterns easy, we define several convenience layers in the file `dl4cv/layer_utils.py`.\n",
      "\n",
      "For now take a look at the `affine_relu_forward` and `affine_relu_backward` functions, and run the following to numerically gradient check the backward pass:"
     ]
    },
    {
     "cell_type": "code",
     "collapsed": true,
     "input": [
      "from dl4cv.layer_utils import affine_relu_forward, affine_relu_backward\n",
      "\n",
      "x = np.random.randn(2, 3, 4)\n",
      "w = np.random.randn(12, 10)\n",
      "b = np.random.randn(10)\n",
      "dout = np.random.randn(2, 10)\n",
      "\n",
      "out, cache = affine_relu_forward(x, w, b)\n",
      "dx, dw, db = affine_relu_backward(dout, cache)\n",
      "\n",
      "dx_num = eval_numerical_gradient_array(lambda x: affine_relu_forward(x, w, b)[0], x, dout)\n",
      "dw_num = eval_numerical_gradient_array(lambda w: affine_relu_forward(x, w, b)[0], w, dout)\n",
      "db_num = eval_numerical_gradient_array(lambda b: affine_relu_forward(x, w, b)[0], b, dout)\n",
      "\n",
      "print 'Testing affine_relu_forward:'\n",
      "print 'dx error: ', rel_error(dx_num, dx)\n",
      "print 'dw error: ', rel_error(dw_num, dw)\n",
      "print 'db error: ', rel_error(db_num, db)"
     ],
     "language": "python",
     "metadata": {},
     "outputs": [
      {
       "output_type": "stream",
       "stream": "stdout",
       "text": [
        "Testing affine_relu_forward:\n",
        "dx error:  6.57245760458e-10\n",
        "dw error:  1.35970928647e-10\n",
        "db error:  3.77354137158e-11\n"
       ]
      }
     ],
     "prompt_number": 7
    },
    {
     "cell_type": "markdown",
     "metadata": {},
     "source": [
      "# Loss layers: Softmax\n",
      "You implemented this loss function in the last assignment, so we'll give them to you for free here. You should still make sure you understand how they work by looking at the implementations in `dl4cv/layers.py`.\n",
      "\n",
      "You can make sure that the implementations are correct by running the following:"
     ]
    },
    {
     "cell_type": "code",
     "collapsed": true,
     "input": [
      "num_classes, num_inputs = 10, 50\n",
      "x = 0.001 * np.random.randn(num_inputs, num_classes)\n",
      "y = np.random.randint(num_classes, size=num_inputs)\n",
      "\n",
      "dx_num = eval_numerical_gradient(lambda x: softmax_loss(x, y)[0], x, verbose=False)\n",
      "loss, dx = softmax_loss(x, y)\n",
      "\n",
      "# Test softmax_loss function. Loss should be 2.3 and dx error should be 1e-8\n",
      "print '\\nTesting softmax_loss:'\n",
      "print 'loss: ', loss\n",
      "print 'dx error: ', rel_error(dx_num, dx)"
     ],
     "language": "python",
     "metadata": {},
     "outputs": [
      {
       "output_type": "stream",
       "stream": "stdout",
       "text": [
        "\n",
        "Testing softmax_loss:\n",
        "loss:  2.30274104905\n",
        "dx error:  9.52252459227e-09\n"
       ]
      }
     ],
     "prompt_number": 8
    },
    {
     "cell_type": "markdown",
     "metadata": {},
     "source": [
      "# Two-layer network\n",
      "In the previous assignment you implemented a two-layer neural network in a single monolithic class. Now that you have implemented modular versions of the necessary layers, you will reimplement the two layer network using these modular implementations.\n",
      "\n",
      "Open the file `dl4cv/classifiers/fc_net.py` and complete the implementation of the `TwoLayerNet` class. This class will serve as a model for the other networks you will implement in this assignment, so read through it to make sure you understand the API. You can run the cell below to test your implementation."
     ]
    },
    {
     "cell_type": "code",
     "collapsed": true,
     "input": [
      "N, D, H, C = 3, 5, 50, 7\n",
      "X = np.random.randn(N, D)\n",
      "y = np.random.randint(C, size=N)\n",
      "\n",
      "std = 1e-2\n",
      "model = TwoLayerNet(input_dim=D, hidden_dim=H, num_classes=C,\n",
      "                     weight_scale=std)\n",
      "\n",
      "print 'Testing initialization ... '\n",
      "W1_std = abs(model.params['W1'].std() - std)\n",
      "b1 = model.params['b1']\n",
      "W2_std = abs(model.params['W2'].std() - std)\n",
      "b2 = model.params['b2']\n",
      "assert W1_std < std / 10, 'First layer weights do not seem right'\n",
      "assert np.all(b1 == 0), 'First layer biases do not seem right'\n",
      "assert W2_std < std / 10, 'Second layer weights do not seem right'\n",
      "assert np.all(b2 == 0), 'Second layer biases do not seem right'\n",
      "\n",
      "print 'Testing test-time forward pass ... '\n",
      "model.params['W1'] = np.linspace(-0.7, 0.3, num=D*H).reshape(D, H)\n",
      "model.params['b1'] = np.linspace(-0.1, 0.9, num=H)\n",
      "model.params['W2'] = np.linspace(-0.3, 0.4, num=H*C).reshape(H, C)\n",
      "model.params['b2'] = np.linspace(-0.9, 0.1, num=C)\n",
      "X = np.linspace(-5.5, 4.5, num=N*D).reshape(D, N).T\n",
      "scores = model.loss(X)\n",
      "correct_scores = np.asarray(\n",
      "  [[11.53165108,  12.2917344,   13.05181771,  13.81190102,  14.57198434, 15.33206765,  16.09215096],\n",
      "   [12.05769098,  12.74614105,  13.43459113,  14.1230412,   14.81149128, 15.49994135,  16.18839143],\n",
      "   [12.58373087,  13.20054771,  13.81736455,  14.43418138,  15.05099822, 15.66781506,  16.2846319 ]])\n",
      "scores_diff = np.abs(scores - correct_scores).sum()\n",
      "assert scores_diff < 1e-6, 'Problem with test-time forward pass'\n",
      "\n",
      "print 'Testing training loss (no regularization)'\n",
      "y = np.asarray([0, 5, 1])\n",
      "loss, grads = model.loss(X, y)\n",
      "correct_loss = 3.4702243556\n",
      "assert abs(loss - correct_loss) < 1e-10, 'Problem with training-time loss'\n",
      "\n",
      "model.reg = 1.0\n",
      "loss, grads = model.loss(X, y)\n",
      "correct_loss = 26.5948426952\n",
      "assert abs(loss - correct_loss) < 1e-10, 'Problem with regularization loss'\n",
      "\n",
      "for reg in [0.0, 0.7]:\n",
      "  print 'Running numeric gradient check with reg = ', reg\n",
      "  model.reg = reg\n",
      "  loss, grads = model.loss(X, y)\n",
      "\n",
      "  for name in sorted(grads):\n",
      "    f = lambda _: model.loss(X, y)[0]\n",
      "    grad_num = eval_numerical_gradient(f, model.params[name], verbose=False)\n",
      "    print '%s relative error: %.2e' % (name, rel_error(grad_num, grads[name]))"
     ],
     "language": "python",
     "metadata": {},
     "outputs": [
      {
       "output_type": "stream",
       "stream": "stdout",
       "text": [
        "Testing initialization ... \n",
        "Testing test-time forward pass ... "
       ]
      },
      {
       "output_type": "stream",
       "stream": "stdout",
       "text": [
        "\n",
        "Testing training loss (no regularization)"
       ]
      },
      {
       "output_type": "stream",
       "stream": "stdout",
       "text": [
        "\n",
        "Running numeric gradient check with reg =  0.0\n",
        "W1 relative error: 1.22e-08"
       ]
      },
      {
       "output_type": "stream",
       "stream": "stdout",
       "text": [
        "\n",
        "W2 relative error: 3.34e-10"
       ]
      },
      {
       "output_type": "stream",
       "stream": "stdout",
       "text": [
        "\n",
        "b1 relative error: 4.73e-09\n",
        "b2 relative error: 4.33e-10\n",
        "Running numeric gradient check with reg =  0.7\n",
        "W1 relative error: 2.53e-07"
       ]
      },
      {
       "output_type": "stream",
       "stream": "stdout",
       "text": [
        "\n",
        "W2 relative error: 7.98e-08"
       ]
      },
      {
       "output_type": "stream",
       "stream": "stdout",
       "text": [
        "\n",
        "b1 relative error: 1.56e-08\n",
        "b2 relative error: 9.09e-10\n"
       ]
      }
     ],
     "prompt_number": 11
    },
    {
     "cell_type": "markdown",
     "metadata": {},
     "source": [
      "# Solver\n",
      "In the previous assignment, the logic for training models was coupled to the models themselves. Following a more modular design, for this assignment we have split the logic for training models into a separate class.\n",
      "\n",
      "Open the file `dl4cv/solver.py` and read through it to familiarize yourself with the API. After doing so, use a `Solver` instance to train a `TwoLayerNet` that achieves at least `50%` accuracy on the validation set."
     ]
    },
    {
     "cell_type": "code",
     "collapsed": true,
     "input": [
      "model = TwoLayerNet()\n",
      "solver = None\n",
      "\n",
      "##############################################################################\n",
      "# TODO: Use a Solver instance to train a TwoLayerNet that achieves at least  #\n",
      "# 50% accuracy on the validation set.                                        #\n",
      "##############################################################################\n",
      "num_epochs = 25\n",
      "batch_size = 500\n",
      "\n",
      "regs = [1e-4]\n",
      "learning_rates = [1e-3]\n",
      "hyper_params = zip(learning_rates, regs)\n",
      "\n",
      "for i, hp in enumerate(hyper_params):\n",
      "    lr, reg = hp\n",
      "    model = TwoLayerNet(reg = reg)\n",
      "    optim_config = {'learning_rate': lr}\n",
      "    solver = Solver(model, data,\n",
      "              update_rule='sgd',\n",
      "              optim_config = optim_config,\n",
      "              lr_decay=0.95,\n",
      "              num_epochs=num_epochs, batch_size=batch_size,\n",
      "              print_every=100)\n",
      "solver.train()\n",
      "##############################################################################\n",
      "#                             END OF YOUR CODE                               #\n",
      "##############################################################################"
     ],
     "language": "python",
     "metadata": {},
     "outputs": [
      {
       "output_type": "stream",
       "stream": "stdout",
       "text": [
        "(Iteration 1 / 2400) loss: 2.305146\n",
        "(Epoch 0 / 25) train acc: 0.126000; val_acc: 0.116000"
       ]
      },
      {
       "output_type": "stream",
       "stream": "stdout",
       "text": [
        "\n",
        "(Epoch 1 / 25) train acc: 0.352000; val_acc: 0.358000"
       ]
      },
      {
       "output_type": "stream",
       "stream": "stdout",
       "text": [
        "\n",
        "(Iteration 101 / 2400) loss: 1.777116"
       ]
      },
      {
       "output_type": "stream",
       "stream": "stdout",
       "text": [
        "\n",
        "(Epoch 2 / 25) train acc: 0.404000; val_acc: 0.409000"
       ]
      },
      {
       "output_type": "stream",
       "stream": "stdout",
       "text": [
        "\n",
        "(Iteration 201 / 2400) loss: 1.698580"
       ]
      },
      {
       "output_type": "stream",
       "stream": "stdout",
       "text": [
        "\n",
        "(Epoch 3 / 25) train acc: 0.468000; val_acc: 0.444000"
       ]
      },
      {
       "output_type": "stream",
       "stream": "stdout",
       "text": [
        "\n",
        "(Iteration 301 / 2400) loss: 1.576126"
       ]
      },
      {
       "output_type": "stream",
       "stream": "stdout",
       "text": [
        "\n",
        "(Epoch 4 / 25) train acc: 0.475000; val_acc: 0.460000"
       ]
      },
      {
       "output_type": "stream",
       "stream": "stdout",
       "text": [
        "\n",
        "(Iteration 401 / 2400) loss: 1.531370"
       ]
      },
      {
       "output_type": "stream",
       "stream": "stdout",
       "text": [
        "\n",
        "(Epoch 5 / 25) train acc: 0.499000; val_acc: 0.466000"
       ]
      },
      {
       "output_type": "stream",
       "stream": "stdout",
       "text": [
        "\n",
        "(Iteration 501 / 2400) loss: 1.439099"
       ]
      },
      {
       "output_type": "stream",
       "stream": "stdout",
       "text": [
        "\n",
        "(Epoch 6 / 25) train acc: 0.490000; val_acc: 0.481000"
       ]
      },
      {
       "output_type": "stream",
       "stream": "stdout",
       "text": [
        "\n",
        "(Iteration 601 / 2400) loss: 1.437665"
       ]
      },
      {
       "output_type": "stream",
       "stream": "stdout",
       "text": [
        "\n",
        "(Epoch 7 / 25) train acc: 0.485000; val_acc: 0.480000"
       ]
      },
      {
       "output_type": "stream",
       "stream": "stdout",
       "text": [
        "\n",
        "(Iteration 701 / 2400) loss: 1.386432"
       ]
      },
      {
       "output_type": "stream",
       "stream": "stdout",
       "text": [
        "\n",
        "(Epoch 8 / 25) train acc: 0.490000; val_acc: 0.481000"
       ]
      },
      {
       "output_type": "stream",
       "stream": "stdout",
       "text": [
        "\n",
        "(Iteration 801 / 2400) loss: 1.380421"
       ]
      },
      {
       "output_type": "stream",
       "stream": "stdout",
       "text": [
        "\n",
        "(Epoch 9 / 25) train acc: 0.524000; val_acc: 0.490000"
       ]
      },
      {
       "output_type": "stream",
       "stream": "stdout",
       "text": [
        "\n",
        "(Iteration 901 / 2400) loss: 1.418629"
       ]
      },
      {
       "output_type": "stream",
       "stream": "stdout",
       "text": [
        "\n",
        "(Epoch 10 / 25) train acc: 0.551000; val_acc: 0.485000"
       ]
      },
      {
       "output_type": "stream",
       "stream": "stdout",
       "text": [
        "\n",
        "(Iteration 1001 / 2400) loss: 1.270161"
       ]
      },
      {
       "output_type": "stream",
       "stream": "stdout",
       "text": [
        "\n",
        "(Epoch 11 / 25) train acc: 0.532000; val_acc: 0.479000"
       ]
      },
      {
       "output_type": "stream",
       "stream": "stdout",
       "text": [
        "\n",
        "(Iteration 1101 / 2400) loss: 1.303993"
       ]
      },
      {
       "output_type": "stream",
       "stream": "stdout",
       "text": [
        "\n",
        "(Epoch 12 / 25) train acc: 0.538000; val_acc: 0.493000"
       ]
      },
      {
       "output_type": "stream",
       "stream": "stdout",
       "text": [
        "\n",
        "(Iteration 1201 / 2400) loss: 1.230583"
       ]
      },
      {
       "output_type": "stream",
       "stream": "stdout",
       "text": [
        "\n",
        "(Epoch 13 / 25) train acc: 0.549000; val_acc: 0.501000"
       ]
      },
      {
       "output_type": "stream",
       "stream": "stdout",
       "text": [
        "\n",
        "(Iteration 1301 / 2400) loss: 1.329284"
       ]
      },
      {
       "output_type": "stream",
       "stream": "stdout",
       "text": [
        "\n",
        "(Epoch 14 / 25) train acc: 0.582000; val_acc: 0.507000"
       ]
      },
      {
       "output_type": "stream",
       "stream": "stdout",
       "text": [
        "\n",
        "(Iteration 1401 / 2400) loss: 1.340936"
       ]
      },
      {
       "output_type": "stream",
       "stream": "stdout",
       "text": [
        "\n",
        "(Epoch 15 / 25) train acc: 0.552000; val_acc: 0.503000"
       ]
      },
      {
       "output_type": "stream",
       "stream": "stdout",
       "text": [
        "\n",
        "(Iteration 1501 / 2400) loss: 1.191850"
       ]
      },
      {
       "output_type": "stream",
       "stream": "stdout",
       "text": [
        "\n",
        "(Epoch 16 / 25) train acc: 0.567000; val_acc: 0.514000"
       ]
      },
      {
       "output_type": "stream",
       "stream": "stdout",
       "text": [
        "\n",
        "(Iteration 1601 / 2400) loss: 1.210858"
       ]
      },
      {
       "output_type": "stream",
       "stream": "stdout",
       "text": [
        "\n",
        "(Epoch 17 / 25) train acc: 0.569000; val_acc: 0.513000"
       ]
      },
      {
       "output_type": "stream",
       "stream": "stdout",
       "text": [
        "\n",
        "(Iteration 1701 / 2400) loss: 1.279507"
       ]
      },
      {
       "output_type": "stream",
       "stream": "stdout",
       "text": [
        "\n",
        "(Epoch 18 / 25) train acc: 0.572000; val_acc: 0.513000"
       ]
      },
      {
       "output_type": "stream",
       "stream": "stdout",
       "text": [
        "\n",
        "(Iteration 1801 / 2400) loss: 1.243020"
       ]
      },
      {
       "output_type": "stream",
       "stream": "stdout",
       "text": [
        "\n",
        "(Epoch 19 / 25) train acc: 0.547000; val_acc: 0.511000"
       ]
      },
      {
       "output_type": "stream",
       "stream": "stdout",
       "text": [
        "\n",
        "(Iteration 1901 / 2400) loss: 1.191656"
       ]
      },
      {
       "output_type": "stream",
       "stream": "stdout",
       "text": [
        "\n",
        "(Epoch 20 / 25) train acc: 0.590000; val_acc: 0.527000"
       ]
      },
      {
       "output_type": "stream",
       "stream": "stdout",
       "text": [
        "\n",
        "(Iteration 2001 / 2400) loss: 1.195978"
       ]
      },
      {
       "output_type": "stream",
       "stream": "stdout",
       "text": [
        "\n",
        "(Epoch 21 / 25) train acc: 0.577000; val_acc: 0.528000"
       ]
      },
      {
       "output_type": "stream",
       "stream": "stdout",
       "text": [
        "\n",
        "(Iteration 2101 / 2400) loss: 1.143683"
       ]
      },
      {
       "output_type": "stream",
       "stream": "stdout",
       "text": [
        "\n",
        "(Epoch 22 / 25) train acc: 0.596000; val_acc: 0.510000"
       ]
      },
      {
       "output_type": "stream",
       "stream": "stdout",
       "text": [
        "\n",
        "(Iteration 2201 / 2400) loss: 1.166862"
       ]
      },
      {
       "output_type": "stream",
       "stream": "stdout",
       "text": [
        "\n",
        "(Epoch 23 / 25) train acc: 0.607000; val_acc: 0.524000"
       ]
      },
      {
       "output_type": "stream",
       "stream": "stdout",
       "text": [
        "\n",
        "(Iteration 2301 / 2400) loss: 1.171958"
       ]
      },
      {
       "output_type": "stream",
       "stream": "stdout",
       "text": [
        "\n",
        "(Epoch 24 / 25) train acc: 0.575000; val_acc: 0.516000"
       ]
      },
      {
       "output_type": "stream",
       "stream": "stdout",
       "text": [
        "\n",
        "(Epoch 25 / 25) train acc: 0.617000; val_acc: 0.517000"
       ]
      },
      {
       "output_type": "stream",
       "stream": "stdout",
       "text": [
        "\n"
       ]
      }
     ],
     "prompt_number": 16
    },
    {
     "cell_type": "code",
     "collapsed": true,
     "input": [
      "# Run this cell to visualize training loss and train / val accuracy\n",
      "\n",
      "plt.subplot(2, 1, 1)\n",
      "plt.title('Training loss')\n",
      "plt.plot(solver.loss_history, 'o')\n",
      "plt.xlabel('Iteration')\n",
      "\n",
      "plt.subplot(2, 1, 2)\n",
      "plt.title('Accuracy')\n",
      "plt.plot(solver.train_acc_history, '-o', label='train')\n",
      "plt.plot(solver.val_acc_history, '-o', label='val')\n",
      "plt.plot([0.5] * len(solver.val_acc_history), 'k--')\n",
      "plt.xlabel('Epoch')\n",
      "plt.legend(loc='lower right')\n",
      "plt.gcf().set_size_inches(15, 12)\n",
      "plt.show()"
     ],
     "language": "python",
     "metadata": {},
     "outputs": [
      {
       "metadata": {},
       "output_type": "display_data",
       "png": "[encoded data removed]",
       "text": [
        "<matplotlib.figure.Figure at 0x7ff4369f1750>"
       ]
      }
     ],
     "prompt_number": 17
    },
    {
     "cell_type": "markdown",
     "metadata": {},
     "source": [
      "# Multilayer network\n",
      "Next you will implement a fully-connected network with an arbitrary number of hidden layers.\n",
      "\n",
      "Read through the `FullyConnectedNet` class in the file `dl4cv/classifiers/fc_net.py`.\n",
      "\n",
      "Implement the initialization, the forward pass, and the backward pass. For the moment don't worry about implementing batch normalization."
     ]
    },
    {
     "cell_type": "heading",
     "level": 2,
     "metadata": {},
     "source": [
      "Initial loss and gradient check"
     ]
    },
    {
     "cell_type": "markdown",
     "metadata": {},
     "source": [
      "As a sanity check, run the following to check the initial loss and to gradient check the network both with and without regularization. Do the initial losses seem reasonable?\n",
      "\n",
      "For gradient checking, you should expect to see errors around 1e-6 or less."
     ]
    },
    {
     "cell_type": "code",
     "collapsed": true,
     "input": [
      "N, D, H1, H2, C = 2, 15, 20, 30, 10\n",
      "X = np.random.randn(N, D)\n",
      "y = np.random.randint(C, size=(N,))\n",
      "\n",
      "for reg in [0, 3.14]:\n",
      "  print 'Running check with reg = ', reg\n",
      "  model = FullyConnectedNet([H1, H2], input_dim=D, num_classes=C,\n",
      "                            reg=reg, weight_scale=5e-2, dtype=np.float64)\n",
      "\n",
      "  loss, grads = model.loss(X, y)\n",
      "  print 'Initial loss: ', loss\n",
      "\n",
      "  for name in sorted(grads):\n",
      "    f = lambda _: model.loss(X, y)[0]\n",
      "    grad_num = eval_numerical_gradient(f, model.params[name], verbose=False, h=1e-5)\n",
      "    print '%s relative error: %.2e' % (name, rel_error(grad_num, grads[name]))"
     ],
     "language": "python",
     "metadata": {},
     "outputs": [
      {
       "output_type": "stream",
       "stream": "stdout",
       "text": [
        "Running check with reg =  0\n",
        "Initial loss:  2.3213111288\n",
        "W1 relative error: 3.31e-08"
       ]
      },
      {
       "output_type": "stream",
       "stream": "stdout",
       "text": [
        "\n",
        "W2 relative error: 3.03e-07"
       ]
      },
      {
       "output_type": "stream",
       "stream": "stdout",
       "text": [
        "\n",
        "W3 relative error: 5.86e-07"
       ]
      },
      {
       "output_type": "stream",
       "stream": "stdout",
       "text": [
        "\n",
        "b1 relative error: 1.91e-09\n",
        "b2 relative error: 9.14e-09\n",
        "b3 relative error: 1.35e-10\n",
        "Running check with reg =  3.14\n",
        "Initial loss:  7.04677194669\n",
        "W1 relative error: 1.96e-07"
       ]
      },
      {
       "output_type": "stream",
       "stream": "stdout",
       "text": [
        "\n",
        "W2 relative error: 4.27e-08"
       ]
      },
      {
       "output_type": "stream",
       "stream": "stdout",
       "text": [
        "\n",
        "W3 relative error: 1.22e-08"
       ]
      },
      {
       "output_type": "stream",
       "stream": "stdout",
       "text": [
        "\n",
        "b1 relative error: 1.34e-08\n",
        "b2 relative error: 3.38e-09\n",
        "b3 relative error: 2.10e-10\n"
       ]
      }
     ],
     "prompt_number": 18
    },
    {
     "cell_type": "markdown",
     "metadata": {},
     "source": [
      "As another sanity check, make sure you can overfit a small dataset of 50 images. First we will try a three-layer network with 100 units in each hidden layer. You will need to tweak the learning rate and initialization scale, but you should be able to overfit and achieve 100% training accuracy within 20 epochs."
     ]
    },
    {
     "cell_type": "code",
     "collapsed": true,
     "input": [
      "# TODO: Use a three-layer Net to overfit 50 training examples.\n",
      "\n",
      "num_train = 50\n",
      "small_data = {\n",
      "  'X_train': data['X_train'][:num_train],\n",
      "  'y_train': data['y_train'][:num_train],\n",
      "  'X_val': data['X_val'],\n",
      "  'y_val': data['y_val'],\n",
      "}\n",
      "\n",
      "weight_scale = 1e-2\n",
      "learning_rate = 1e-2 #1e-4\n",
      "model = FullyConnectedNet([100, 100], dropout = 1, \n",
      "                          use_batchnorm = True,\n",
      "              weight_scale=weight_scale, dtype=np.float64)\n",
      "solver = Solver(model, small_data,\n",
      "                print_every=10, num_epochs=20, batch_size=25,\n",
      "                update_rule='sgd',\n",
      "                optim_config={\n",
      "                  'learning_rate': learning_rate,\n",
      "                }\n",
      "         )\n",
      "solver.train()\n",
      "\n",
      "plt.plot(solver.loss_history, 'o')\n",
      "plt.title('Training loss history')\n",
      "plt.xlabel('Iteration')\n",
      "plt.ylabel('Training loss')\n",
      "plt.show()"
     ],
     "language": "python",
     "metadata": {
      "scrolled": false
     },
     "outputs": [
      {
       "output_type": "stream",
       "stream": "stdout",
       "text": [
        "(Iteration 1 / 40) loss: 2.316650\n",
        "(Epoch 0 / 20) train acc: 0.320000; val_acc: 0.120000"
       ]
      },
      {
       "output_type": "stream",
       "stream": "stdout",
       "text": [
        "\n",
        "(Epoch 1 / 20) train acc: 0.280000; val_acc: 0.128000"
       ]
      },
      {
       "output_type": "stream",
       "stream": "stdout",
       "text": [
        "\n",
        "(Epoch 2 / 20) train acc: 0.660000; val_acc: 0.171000"
       ]
      },
      {
       "output_type": "stream",
       "stream": "stdout",
       "text": [
        "\n",
        "(Epoch 3 / 20) train acc: 0.540000; val_acc: 0.149000"
       ]
      },
      {
       "output_type": "stream",
       "stream": "stdout",
       "text": [
        "\n",
        "(Epoch 4 / 20) train acc: 0.620000; val_acc: 0.155000"
       ]
      },
      {
       "output_type": "stream",
       "stream": "stdout",
       "text": [
        "\n",
        "(Epoch 5 / 20) train acc: 0.700000; val_acc: 0.145000"
       ]
      },
      {
       "output_type": "stream",
       "stream": "stdout",
       "text": [
        "\n",
        "(Iteration 11 / 40) loss: 0.936868\n",
        "(Epoch 6 / 20) train acc: 0.680000; val_acc: 0.145000"
       ]
      },
      {
       "output_type": "stream",
       "stream": "stdout",
       "text": [
        "\n",
        "(Epoch 7 / 20) train acc: 0.660000; val_acc: 0.146000"
       ]
      },
      {
       "output_type": "stream",
       "stream": "stdout",
       "text": [
        "\n",
        "(Epoch 8 / 20) train acc: 0.900000; val_acc: 0.156000"
       ]
      },
      {
       "output_type": "stream",
       "stream": "stdout",
       "text": [
        "\n",
        "(Epoch 9 / 20) train acc: 0.940000; val_acc: 0.185000"
       ]
      },
      {
       "output_type": "stream",
       "stream": "stdout",
       "text": [
        "\n",
        "(Epoch 10 / 20) train acc: 0.800000; val_acc: 0.151000"
       ]
      },
      {
       "output_type": "stream",
       "stream": "stdout",
       "text": [
        "\n",
        "(Iteration 21 / 40) loss: 1.069834\n",
        "(Epoch 11 / 20) train acc: 0.980000; val_acc: 0.192000"
       ]
      },
      {
       "output_type": "stream",
       "stream": "stdout",
       "text": [
        "\n",
        "(Epoch 12 / 20) train acc: 0.960000; val_acc: 0.181000"
       ]
      },
      {
       "output_type": "stream",
       "stream": "stdout",
       "text": [
        "\n",
        "(Epoch 13 / 20) train acc: 0.940000; val_acc: 0.190000"
       ]
      },
      {
       "output_type": "stream",
       "stream": "stdout",
       "text": [
        "\n",
        "(Epoch 14 / 20) train acc: 0.980000; val_acc: 0.163000"
       ]
      },
      {
       "output_type": "stream",
       "stream": "stdout",
       "text": [
        "\n",
        "(Epoch 15 / 20) train acc: 0.980000; val_acc: 0.155000"
       ]
      },
      {
       "output_type": "stream",
       "stream": "stdout",
       "text": [
        "\n",
        "(Iteration 31 / 40) loss: 0.086352\n",
        "(Epoch 16 / 20) train acc: 0.980000; val_acc: 0.159000"
       ]
      },
      {
       "output_type": "stream",
       "stream": "stdout",
       "text": [
        "\n",
        "(Epoch 17 / 20) train acc: 1.000000; val_acc: 0.165000"
       ]
      },
      {
       "output_type": "stream",
       "stream": "stdout",
       "text": [
        "\n",
        "(Epoch 18 / 20) train acc: 1.000000; val_acc: 0.157000"
       ]
      },
      {
       "output_type": "stream",
       "stream": "stdout",
       "text": [
        "\n",
        "(Epoch 19 / 20) train acc: 1.000000; val_acc: 0.164000"
       ]
      },
      {
       "output_type": "stream",
       "stream": "stdout",
       "text": [
        "\n",
        "(Epoch 20 / 20) train acc: 1.000000; val_acc: 0.159000"
       ]
      },
      {
       "output_type": "stream",
       "stream": "stdout",
       "text": [
        "\n"
       ]
      },
      {
       "metadata": {},
       "output_type": "display_data",
       "png": "[encoded data removed]",
       "text": [
        "<matplotlib.figure.Figure at 0x7ff4604f4d10>"
       ]
      }
     ],
     "prompt_number": 19
    },
    {
     "cell_type": "markdown",
     "metadata": {},
     "source": [
      "Now try to use a five-layer network with 100 units on each layer to overfit 50 training examples. Again you will have to adjust the learning rate and weight initialization, but you should be able to achieve 100% training accuracy within 20 epochs."
     ]
    },
    {
     "cell_type": "code",
     "collapsed": true,
     "input": [
      "# TODO: Use a five-layer Net to overfit 50 training examples.\n",
      "\n",
      "num_train = 50\n",
      "small_data = {\n",
      "  'X_train': data['X_train'][:num_train],\n",
      "  'y_train': data['y_train'][:num_train],\n",
      "  'X_val': data['X_val'],\n",
      "  'y_val': data['y_val'],\n",
      "}\n",
      "\n",
      "learning_rate = 0.021 #1e-3\n",
      "weight_scale = 0.036 #1e-5\n",
      "model = FullyConnectedNet([100, 100, 100, 100],\n",
      "                          dropout = 1, use_batchnorm = True,\n",
      "                weight_scale=weight_scale, dtype=np.float64)\n",
      "solver = Solver(model, small_data,\n",
      "                print_every=10, num_epochs=20, batch_size=25,\n",
      "                update_rule='sgd',\n",
      "                optim_config={\n",
      "                  'learning_rate': learning_rate,\n",
      "                }\n",
      "         )\n",
      "solver.train()\n",
      "\n",
      "plt.plot(solver.loss_history, 'o')\n",
      "plt.title('Training loss history')\n",
      "plt.xlabel('Iteration')\n",
      "plt.ylabel('Training loss')\n",
      "plt.show()"
     ],
     "language": "python",
     "metadata": {},
     "outputs": [
      {
       "output_type": "stream",
       "stream": "stdout",
       "text": [
        "(Iteration 1 / 40) loss: 2.577596\n",
        "(Epoch 0 / 20) train acc: 0.220000; val_acc: 0.108000"
       ]
      },
      {
       "output_type": "stream",
       "stream": "stdout",
       "text": [
        "\n",
        "(Epoch 1 / 20) train acc: 0.280000; val_acc: 0.113000"
       ]
      },
      {
       "output_type": "stream",
       "stream": "stdout",
       "text": [
        "\n",
        "(Epoch 2 / 20) train acc: 0.540000; val_acc: 0.131000"
       ]
      },
      {
       "output_type": "stream",
       "stream": "stdout",
       "text": [
        "\n",
        "(Epoch 3 / 20) train acc: 0.440000; val_acc: 0.140000"
       ]
      },
      {
       "output_type": "stream",
       "stream": "stdout",
       "text": [
        "\n",
        "(Epoch 4 / 20) train acc: 0.460000; val_acc: 0.131000"
       ]
      },
      {
       "output_type": "stream",
       "stream": "stdout",
       "text": [
        "\n",
        "(Epoch 5 / 20) train acc: 0.840000; val_acc: 0.154000"
       ]
      },
      {
       "output_type": "stream",
       "stream": "stdout",
       "text": [
        "\n",
        "(Iteration 11 / 40) loss: 1.102085\n",
        "(Epoch 6 / 20) train acc: 0.800000; val_acc: 0.164000"
       ]
      },
      {
       "output_type": "stream",
       "stream": "stdout",
       "text": [
        "\n",
        "(Epoch 7 / 20) train acc: 0.520000; val_acc: 0.097000"
       ]
      },
      {
       "output_type": "stream",
       "stream": "stdout",
       "text": [
        "\n",
        "(Epoch 8 / 20) train acc: 0.380000; val_acc: 0.108000"
       ]
      },
      {
       "output_type": "stream",
       "stream": "stdout",
       "text": [
        "\n",
        "(Epoch 9 / 20) train acc: 0.840000; val_acc: 0.150000"
       ]
      },
      {
       "output_type": "stream",
       "stream": "stdout",
       "text": [
        "\n",
        "(Epoch 10 / 20) train acc: 0.900000; val_acc: 0.148000"
       ]
      },
      {
       "output_type": "stream",
       "stream": "stdout",
       "text": [
        "\n",
        "(Iteration 21 / 40) loss: 0.933344\n",
        "(Epoch 11 / 20) train acc: 0.900000; val_acc: 0.165000"
       ]
      },
      {
       "output_type": "stream",
       "stream": "stdout",
       "text": [
        "\n",
        "(Epoch 12 / 20) train acc: 0.960000; val_acc: 0.165000"
       ]
      },
      {
       "output_type": "stream",
       "stream": "stdout",
       "text": [
        "\n",
        "(Epoch 13 / 20) train acc: 0.920000; val_acc: 0.146000"
       ]
      },
      {
       "output_type": "stream",
       "stream": "stdout",
       "text": [
        "\n",
        "(Epoch 14 / 20) train acc: 0.920000; val_acc: 0.160000"
       ]
      },
      {
       "output_type": "stream",
       "stream": "stdout",
       "text": [
        "\n",
        "(Epoch 15 / 20) train acc: 1.000000; val_acc: 0.172000"
       ]
      },
      {
       "output_type": "stream",
       "stream": "stdout",
       "text": [
        "\n",
        "(Iteration 31 / 40) loss: 0.093703\n",
        "(Epoch 16 / 20) train acc: 1.000000; val_acc: 0.163000"
       ]
      },
      {
       "output_type": "stream",
       "stream": "stdout",
       "text": [
        "\n",
        "(Epoch 17 / 20) train acc: 1.000000; val_acc: 0.173000"
       ]
      },
      {
       "output_type": "stream",
       "stream": "stdout",
       "text": [
        "\n",
        "(Epoch 18 / 20) train acc: 1.000000; val_acc: 0.168000"
       ]
      },
      {
       "output_type": "stream",
       "stream": "stdout",
       "text": [
        "\n",
        "(Epoch 19 / 20) train acc: 1.000000; val_acc: 0.170000"
       ]
      },
      {
       "output_type": "stream",
       "stream": "stdout",
       "text": [
        "\n",
        "(Epoch 20 / 20) train acc: 1.000000; val_acc: 0.176000"
       ]
      },
      {
       "output_type": "stream",
       "stream": "stdout",
       "text": [
        "\n"
       ]
      },
      {
       "metadata": {},
       "output_type": "display_data",
       "png": "[encoded data removed]",
       "text": [
        "<matplotlib.figure.Figure at 0x7ff436a9d310>"
       ]
      }
     ],
     "prompt_number": 20
    },
    {
     "cell_type": "markdown",
     "metadata": {},
     "source": [
      "# Inline question: \n",
      "Did you notice anything about the comparative difficulty of training the three-layer net vs training the five layer net?\n",
      "\n",
      "**Your answer:** The deeper network is much harder to tune as it is much more sensistive to hyperparameter values.\n"
     ]
    },
    {
     "cell_type": "markdown",
     "metadata": {},
     "source": [
      "# Update rules\n",
      "So far we have used vanilla stochastic gradient descent (SGD) as our update rule. More sophisticated update rules can make it easier to train deep networks. We will implement a few of the most commonly used update rules and compare them to vanilla SGD."
     ]
    },
    {
     "cell_type": "markdown",
     "metadata": {},
     "source": [
      "# SGD+Momentum\n",
      "Stochastic gradient descent with momentum is a widely used update rule that tends to make deep networks converge faster than vanilla stochastic gradient descent.\n",
      "\n",
      "Open the file `dl4cv/optim.py` and read the documentation at the top of the file to make sure you understand the API. Implement the SGD+momentum update rule in the function `sgd_momentum` and run the following to check your implementation. You should see errors less than 1e-8."
     ]
    },
    {
     "cell_type": "code",
     "collapsed": true,
     "input": [
      "from dl4cv.optim import sgd_momentum\n",
      "\n",
      "N, D = 4, 5\n",
      "w = np.linspace(-0.4, 0.6, num=N*D).reshape(N, D)\n",
      "dw = np.linspace(-0.6, 0.4, num=N*D).reshape(N, D)\n",
      "v = np.linspace(0.6, 0.9, num=N*D).reshape(N, D)\n",
      "\n",
      "config = {'learning_rate': 1e-3, 'velocity': v}\n",
      "next_w, _ = sgd_momentum(w, dw, config=config)\n",
      "\n",
      "expected_next_w = np.asarray([\n",
      "  [ 0.1406,      0.20738947,  0.27417895,  0.34096842,  0.40775789],\n",
      "  [ 0.47454737,  0.54133684,  0.60812632,  0.67491579,  0.74170526],\n",
      "  [ 0.80849474,  0.87528421,  0.94207368,  1.00886316,  1.07565263],\n",
      "  [ 1.14244211,  1.20923158,  1.27602105,  1.34281053,  1.4096    ]])\n",
      "expected_velocity = np.asarray([\n",
      "  [ 0.5406,      0.55475789,  0.56891579, 0.58307368,  0.59723158],\n",
      "  [ 0.61138947,  0.62554737,  0.63970526,  0.65386316,  0.66802105],\n",
      "  [ 0.68217895,  0.69633684,  0.71049474,  0.72465263,  0.73881053],\n",
      "  [ 0.75296842,  0.76712632,  0.78128421,  0.79544211,  0.8096    ]])\n",
      "\n",
      "print 'next_w error: ', rel_error(next_w, expected_next_w)\n",
      "print 'velocity error: ', rel_error(expected_velocity, config['velocity'])"
     ],
     "language": "python",
     "metadata": {},
     "outputs": [
      {
       "output_type": "stream",
       "stream": "stdout",
       "text": [
        "next_w error:  8.88234703351e-09\n",
        "velocity error:  4.26928774328e-09\n"
       ]
      }
     ],
     "prompt_number": 21
    },
    {
     "cell_type": "markdown",
     "metadata": {},
     "source": [
      "Once you have done so, run the following to train a six-layer network with both SGD and SGD+momentum. You should see the SGD+momentum update rule converge faster."
     ]
    },
    {
     "cell_type": "code",
     "collapsed": true,
     "input": [
      "num_train = 4000\n",
      "small_data = {\n",
      "  'X_train': data['X_train'][:num_train],\n",
      "  'y_train': data['y_train'][:num_train],\n",
      "  'X_val': data['X_val'],\n",
      "  'y_val': data['y_val'],\n",
      "}\n",
      "\n",
      "solvers = {}\n",
      "\n",
      "for update_rule in ['sgd', 'sgd_momentum']:\n",
      "  print 'running with ', update_rule\n",
      "  model = FullyConnectedNet([100, 100, 100, 100, 100],\n",
      "                            dropout = 1, \n",
      "                            use_batchnorm = True,\n",
      "                            weight_scale=5e-2)\n",
      "\n",
      "  solver = Solver(model, small_data,\n",
      "                  num_epochs=5, batch_size=100,\n",
      "                  update_rule=update_rule,\n",
      "                  optim_config={\n",
      "                    'learning_rate': 1e-2,\n",
      "                  },\n",
      "                  verbose=True)\n",
      "  solvers[update_rule] = solver\n",
      "  solver.train()\n",
      "  print\n",
      "\n",
      "plt.subplot(3, 1, 1)\n",
      "plt.title('Training loss')\n",
      "plt.xlabel('Iteration')\n",
      "\n",
      "plt.subplot(3, 1, 2)\n",
      "plt.title('Training accuracy')\n",
      "plt.xlabel('Epoch')\n",
      "\n",
      "plt.subplot(3, 1, 3)\n",
      "plt.title('Validation accuracy')\n",
      "plt.xlabel('Epoch')\n",
      "\n",
      "for update_rule, solver in solvers.iteritems():\n",
      "  plt.subplot(3, 1, 1)\n",
      "  plt.plot(solver.loss_history, 'o', label=update_rule)\n",
      "  \n",
      "  plt.subplot(3, 1, 2)\n",
      "  plt.plot(solver.train_acc_history, '-o', label=update_rule)\n",
      "\n",
      "  plt.subplot(3, 1, 3)\n",
      "  plt.plot(solver.val_acc_history, '-o', label=update_rule)\n",
      "  \n",
      "for i in [1, 2, 3]:\n",
      "  plt.subplot(3, 1, i)\n",
      "  plt.legend(loc='upper center', ncol=4)\n",
      "plt.gcf().set_size_inches(15, 15)\n",
      "plt.show()"
     ],
     "language": "python",
     "metadata": {
      "scrolled": false
     },
     "outputs": [
      {
       "output_type": "stream",
       "stream": "stdout",
       "text": [
        "running with  sgd\n",
        "(Iteration 1 / 200) loss: 2.705233"
       ]
      },
      {
       "output_type": "stream",
       "stream": "stdout",
       "text": [
        "\n",
        "(Epoch 0 / 5) train acc: 0.102000; val_acc: 0.101000"
       ]
      },
      {
       "output_type": "stream",
       "stream": "stdout",
       "text": [
        "\n",
        "(Iteration 11 / 200) loss: 2.313073"
       ]
      },
      {
       "output_type": "stream",
       "stream": "stdout",
       "text": [
        "\n",
        "(Iteration 21 / 200) loss: 2.147544"
       ]
      },
      {
       "output_type": "stream",
       "stream": "stdout",
       "text": [
        "\n",
        "(Iteration 31 / 200) loss: 1.966218"
       ]
      },
      {
       "output_type": "stream",
       "stream": "stdout",
       "text": [
        "\n",
        "(Epoch 1 / 5) train acc: 0.292000; val_acc: 0.241000"
       ]
      },
      {
       "output_type": "stream",
       "stream": "stdout",
       "text": [
        "\n",
        "(Iteration 41 / 200) loss: 1.952218\n",
        "(Iteration 51 / 200) loss: 1.893037"
       ]
      },
      {
       "output_type": "stream",
       "stream": "stdout",
       "text": [
        "\n",
        "(Iteration 61 / 200) loss: 1.997894"
       ]
      },
      {
       "output_type": "stream",
       "stream": "stdout",
       "text": [
        "\n",
        "(Iteration 71 / 200) loss: 1.932296"
       ]
      },
      {
       "output_type": "stream",
       "stream": "stdout",
       "text": [
        "\n",
        "(Epoch 2 / 5) train acc: 0.307000; val_acc: 0.266000"
       ]
      },
      {
       "output_type": "stream",
       "stream": "stdout",
       "text": [
        "\n",
        "(Iteration 81 / 200) loss: 1.971805\n",
        "(Iteration 91 / 200) loss: 1.867909"
       ]
      },
      {
       "output_type": "stream",
       "stream": "stdout",
       "text": [
        "\n",
        "(Iteration 101 / 200) loss: 1.772400"
       ]
      },
      {
       "output_type": "stream",
       "stream": "stdout",
       "text": [
        "\n",
        "(Iteration 111 / 200) loss: 1.779557"
       ]
      },
      {
       "output_type": "stream",
       "stream": "stdout",
       "text": [
        "\n",
        "(Epoch 3 / 5) train acc: 0.391000; val_acc: 0.302000"
       ]
      },
      {
       "output_type": "stream",
       "stream": "stdout",
       "text": [
        "\n",
        "(Iteration 121 / 200) loss: 1.673240\n",
        "(Iteration 131 / 200) loss: 1.769400"
       ]
      },
      {
       "output_type": "stream",
       "stream": "stdout",
       "text": [
        "\n",
        "(Iteration 141 / 200) loss: 1.615999"
       ]
      },
      {
       "output_type": "stream",
       "stream": "stdout",
       "text": [
        "\n",
        "(Iteration 151 / 200) loss: 1.584205"
       ]
      },
      {
       "output_type": "stream",
       "stream": "stdout",
       "text": [
        "\n",
        "(Epoch 4 / 5) train acc: 0.415000; val_acc: 0.305000"
       ]
      },
      {
       "output_type": "stream",
       "stream": "stdout",
       "text": [
        "\n",
        "(Iteration 161 / 200) loss: 1.837123\n",
        "(Iteration 171 / 200) loss: 1.589612"
       ]
      },
      {
       "output_type": "stream",
       "stream": "stdout",
       "text": [
        "\n",
        "(Iteration 181 / 200) loss: 1.572758"
       ]
      },
      {
       "output_type": "stream",
       "stream": "stdout",
       "text": [
        "\n",
        "(Iteration 191 / 200) loss: 1.524639"
       ]
      },
      {
       "output_type": "stream",
       "stream": "stdout",
       "text": [
        "\n",
        "(Epoch 5 / 5) train acc: 0.390000; val_acc: 0.308000"
       ]
      },
      {
       "output_type": "stream",
       "stream": "stdout",
       "text": [
        "\n",
        "\n",
        "running with  sgd_momentum\n",
        "(Iteration 1 / 200) loss: 2.707623\n",
        "(Epoch 0 / 5) train acc: 0.103000; val_acc: 0.106000"
       ]
      },
      {
       "output_type": "stream",
       "stream": "stdout",
       "text": [
        "\n",
        "(Iteration 11 / 200) loss: 2.212755"
       ]
      },
      {
       "output_type": "stream",
       "stream": "stdout",
       "text": [
        "\n",
        "(Iteration 21 / 200) loss: 2.040641"
       ]
      },
      {
       "output_type": "stream",
       "stream": "stdout",
       "text": [
        "\n",
        "(Iteration 31 / 200) loss: 2.074296"
       ]
      },
      {
       "output_type": "stream",
       "stream": "stdout",
       "text": [
        "\n",
        "(Epoch 1 / 5) train acc: 0.320000; val_acc: 0.256000"
       ]
      },
      {
       "output_type": "stream",
       "stream": "stdout",
       "text": [
        "\n",
        "(Iteration 41 / 200) loss: 1.875321\n",
        "(Iteration 51 / 200) loss: 1.705323"
       ]
      },
      {
       "output_type": "stream",
       "stream": "stdout",
       "text": [
        "\n",
        "(Iteration 61 / 200) loss: 1.772410"
       ]
      },
      {
       "output_type": "stream",
       "stream": "stdout",
       "text": [
        "\n",
        "(Iteration 71 / 200) loss: 1.770378"
       ]
      },
      {
       "output_type": "stream",
       "stream": "stdout",
       "text": [
        "\n",
        "(Epoch 2 / 5) train acc: 0.352000; val_acc: 0.289000"
       ]
      },
      {
       "output_type": "stream",
       "stream": "stdout",
       "text": [
        "\n",
        "(Iteration 81 / 200) loss: 1.753012\n",
        "(Iteration 91 / 200) loss: 1.827076"
       ]
      },
      {
       "output_type": "stream",
       "stream": "stdout",
       "text": [
        "\n",
        "(Iteration 101 / 200) loss: 1.594345"
       ]
      },
      {
       "output_type": "stream",
       "stream": "stdout",
       "text": [
        "\n",
        "(Iteration 111 / 200) loss: 1.382380"
       ]
      },
      {
       "output_type": "stream",
       "stream": "stdout",
       "text": [
        "\n",
        "(Epoch 3 / 5) train acc: 0.417000; val_acc: 0.314000"
       ]
      },
      {
       "output_type": "stream",
       "stream": "stdout",
       "text": [
        "\n",
        "(Iteration 121 / 200) loss: 1.791038\n",
        "(Iteration 131 / 200) loss: 1.458468"
       ]
      },
      {
       "output_type": "stream",
       "stream": "stdout",
       "text": [
        "\n",
        "(Iteration 141 / 200) loss: 1.504651"
       ]
      },
      {
       "output_type": "stream",
       "stream": "stdout",
       "text": [
        "\n",
        "(Iteration 151 / 200) loss: 1.485287"
       ]
      },
      {
       "output_type": "stream",
       "stream": "stdout",
       "text": [
        "\n",
        "(Epoch 4 / 5) train acc: 0.494000; val_acc: 0.346000"
       ]
      },
      {
       "output_type": "stream",
       "stream": "stdout",
       "text": [
        "\n",
        "(Iteration 161 / 200) loss: 1.348233\n",
        "(Iteration 171 / 200) loss: 1.543914"
       ]
      },
      {
       "output_type": "stream",
       "stream": "stdout",
       "text": [
        "\n",
        "(Iteration 181 / 200) loss: 1.300960"
       ]
      },
      {
       "output_type": "stream",
       "stream": "stdout",
       "text": [
        "\n",
        "(Iteration 191 / 200) loss: 1.589498"
       ]
      },
      {
       "output_type": "stream",
       "stream": "stdout",
       "text": [
        "\n",
        "(Epoch 5 / 5) train acc: 0.503000; val_acc: 0.322000"
       ]
      },
      {
       "output_type": "stream",
       "stream": "stdout",
       "text": [
        "\n",
        "\n"
       ]
      },
      {
       "metadata": {},
       "output_type": "display_data",
       "png": "[encoded data removed]",
       "text": [
        "<matplotlib.figure.Figure at 0x7ff4350ba290>"
       ]
      }
     ],
     "prompt_number": 22
    },
    {
     "cell_type": "markdown",
     "metadata": {},
     "source": [
      "# Adam\n",
      "Adam [1] is an update rule that sets per-parameter learning rates by using a running average of the second moments of gradients.\n",
      "\n",
      "In the file `dl4cv/optim.py`, we have implemented the update rule `adam` for you. Check this implementation and make sure you understand what the optimizer is doing. Then train the fully connected net below to see how Adam affects the learning process.\n",
      "\n",
      "[1] Diederik Kingma and Jimmy Ba, \"Adam: A Method for Stochastic Optimization\", ICLR 2015."
     ]
    },
    {
     "cell_type": "code",
     "collapsed": true,
     "input": [
      "learning_rates = {'adam': 1e-3}\n",
      "update_rule = 'adam'\n",
      "print 'running with ', update_rule\n",
      "model = FullyConnectedNet([100, 100, 100, 100, 100], weight_scale=5e-2)\n",
      "\n",
      "solver = Solver(model, small_data,\n",
      "              num_epochs=10, batch_size=100,\n",
      "              update_rule=update_rule,\n",
      "              optim_config={\n",
      "                'learning_rate': learning_rates[update_rule]\n",
      "              },\n",
      "              verbose=True)\n",
      "solvers[update_rule] = solver\n",
      "solver.train()\n",
      "print\n",
      "\n",
      "plt.subplot(3, 1, 1)\n",
      "plt.title('Training loss')\n",
      "plt.xlabel('Iteration')\n",
      "\n",
      "plt.subplot(3, 1, 2)\n",
      "plt.title('Training accuracy')\n",
      "plt.xlabel('Epoch')\n",
      "\n",
      "plt.subplot(3, 1, 3)\n",
      "plt.title('Validation accuracy')\n",
      "plt.xlabel('Epoch')\n",
      "\n",
      "for update_rule, solver in solvers.iteritems():\n",
      "  plt.subplot(3, 1, 1)\n",
      "  plt.plot(solver.loss_history, 'o', label=update_rule)\n",
      "  \n",
      "  plt.subplot(3, 1, 2)\n",
      "  plt.plot(solver.train_acc_history, '-o', label=update_rule)\n",
      "\n",
      "  plt.subplot(3, 1, 3)\n",
      "  plt.plot(solver.val_acc_history, '-o', label=update_rule)\n",
      "  \n",
      "for i in [1, 2, 3]:\n",
      "  plt.subplot(3, 1, i)\n",
      "  plt.legend(loc='upper center', ncol=4)\n",
      "plt.gcf().set_size_inches(15, 15)\n",
      "plt.show()"
     ],
     "language": "python",
     "metadata": {},
     "outputs": [
      {
       "output_type": "stream",
       "stream": "stdout",
       "text": [
        "running with  adam\n",
        "(Iteration 1 / 400) loss: 2.541686\n",
        "(Epoch 0 / 10) train acc: 0.165000; val_acc: 0.139000"
       ]
      },
      {
       "output_type": "stream",
       "stream": "stdout",
       "text": [
        "\n",
        "(Iteration 11 / 400) loss: 2.156271"
       ]
      },
      {
       "output_type": "stream",
       "stream": "stdout",
       "text": [
        "\n",
        "(Iteration 21 / 400) loss: 1.876270"
       ]
      },
      {
       "output_type": "stream",
       "stream": "stdout",
       "text": [
        "\n",
        "(Iteration 31 / 400) loss: 1.797427"
       ]
      },
      {
       "output_type": "stream",
       "stream": "stdout",
       "text": [
        "\n",
        "(Epoch 1 / 10) train acc: 0.396000; val_acc: 0.302000"
       ]
      },
      {
       "output_type": "stream",
       "stream": "stdout",
       "text": [
        "\n",
        "(Iteration 41 / 400) loss: 1.854030\n",
        "(Iteration 51 / 400) loss: 1.834843"
       ]
      },
      {
       "output_type": "stream",
       "stream": "stdout",
       "text": [
        "\n",
        "(Iteration 61 / 400) loss: 1.684596"
       ]
      },
      {
       "output_type": "stream",
       "stream": "stdout",
       "text": [
        "\n",
        "(Iteration 71 / 400) loss: 1.731255"
       ]
      },
      {
       "output_type": "stream",
       "stream": "stdout",
       "text": [
        "\n",
        "(Epoch 2 / 10) train acc: 0.470000; val_acc: 0.352000"
       ]
      },
      {
       "output_type": "stream",
       "stream": "stdout",
       "text": [
        "\n",
        "(Iteration 81 / 400) loss: 1.644721\n",
        "(Iteration 91 / 400) loss: 1.652930"
       ]
      },
      {
       "output_type": "stream",
       "stream": "stdout",
       "text": [
        "\n",
        "(Iteration 101 / 400) loss: 1.512281"
       ]
      },
      {
       "output_type": "stream",
       "stream": "stdout",
       "text": [
        "\n",
        "(Iteration 111 / 400) loss: 1.453562"
       ]
      },
      {
       "output_type": "stream",
       "stream": "stdout",
       "text": [
        "\n",
        "(Epoch 3 / 10) train acc: 0.539000; val_acc: 0.340000"
       ]
      },
      {
       "output_type": "stream",
       "stream": "stdout",
       "text": [
        "\n",
        "(Iteration 121 / 400) loss: 1.594612\n",
        "(Iteration 131 / 400) loss: 1.396995"
       ]
      },
      {
       "output_type": "stream",
       "stream": "stdout",
       "text": [
        "\n",
        "(Iteration 141 / 400) loss: 1.420660"
       ]
      },
      {
       "output_type": "stream",
       "stream": "stdout",
       "text": [
        "\n",
        "(Iteration 151 / 400) loss: 1.128203"
       ]
      },
      {
       "output_type": "stream",
       "stream": "stdout",
       "text": [
        "\n",
        "(Epoch 4 / 10) train acc: 0.541000; val_acc: 0.352000"
       ]
      },
      {
       "output_type": "stream",
       "stream": "stdout",
       "text": [
        "\n",
        "(Iteration 161 / 400) loss: 1.428124\n",
        "(Iteration 171 / 400) loss: 1.196915"
       ]
      },
      {
       "output_type": "stream",
       "stream": "stdout",
       "text": [
        "\n",
        "(Iteration 181 / 400) loss: 1.228160"
       ]
      },
      {
       "output_type": "stream",
       "stream": "stdout",
       "text": [
        "\n",
        "(Iteration 191 / 400) loss: 1.353311"
       ]
      },
      {
       "output_type": "stream",
       "stream": "stdout",
       "text": [
        "\n",
        "(Epoch 5 / 10) train acc: 0.562000; val_acc: 0.349000"
       ]
      },
      {
       "output_type": "stream",
       "stream": "stdout",
       "text": [
        "\n",
        "(Iteration 201 / 400) loss: 1.006702\n",
        "(Iteration 211 / 400) loss: 1.253557"
       ]
      },
      {
       "output_type": "stream",
       "stream": "stdout",
       "text": [
        "\n",
        "(Iteration 221 / 400) loss: 1.213059"
       ]
      },
      {
       "output_type": "stream",
       "stream": "stdout",
       "text": [
        "\n",
        "(Iteration 231 / 400) loss: 1.159852"
       ]
      },
      {
       "output_type": "stream",
       "stream": "stdout",
       "text": [
        "\n",
        "(Epoch 6 / 10) train acc: 0.590000; val_acc: 0.349000"
       ]
      },
      {
       "output_type": "stream",
       "stream": "stdout",
       "text": [
        "\n",
        "(Iteration 241 / 400) loss: 1.180088\n",
        "(Iteration 251 / 400) loss: 1.055916"
       ]
      },
      {
       "output_type": "stream",
       "stream": "stdout",
       "text": [
        "\n",
        "(Iteration 261 / 400) loss: 1.219179"
       ]
      },
      {
       "output_type": "stream",
       "stream": "stdout",
       "text": [
        "\n",
        "(Iteration 271 / 400) loss: 1.035704"
       ]
      },
      {
       "output_type": "stream",
       "stream": "stdout",
       "text": [
        "\n",
        "(Epoch 7 / 10) train acc: 0.667000; val_acc: 0.391000"
       ]
      },
      {
       "output_type": "stream",
       "stream": "stdout",
       "text": [
        "\n",
        "(Iteration 281 / 400) loss: 1.036780\n",
        "(Iteration 291 / 400) loss: 1.000589"
       ]
      },
      {
       "output_type": "stream",
       "stream": "stdout",
       "text": [
        "\n",
        "(Iteration 301 / 400) loss: 0.767161"
       ]
      },
      {
       "output_type": "stream",
       "stream": "stdout",
       "text": [
        "\n",
        "(Iteration 311 / 400) loss: 0.747777"
       ]
      },
      {
       "output_type": "stream",
       "stream": "stdout",
       "text": [
        "\n",
        "(Epoch 8 / 10) train acc: 0.687000; val_acc: 0.370000"
       ]
      },
      {
       "output_type": "stream",
       "stream": "stdout",
       "text": [
        "\n",
        "(Iteration 321 / 400) loss: 1.228932\n",
        "(Iteration 331 / 400) loss: 0.958329"
       ]
      },
      {
       "output_type": "stream",
       "stream": "stdout",
       "text": [
        "\n",
        "(Iteration 341 / 400) loss: 0.931049"
       ]
      },
      {
       "output_type": "stream",
       "stream": "stdout",
       "text": [
        "\n",
        "(Iteration 351 / 400) loss: 0.838676"
       ]
      },
      {
       "output_type": "stream",
       "stream": "stdout",
       "text": [
        "\n",
        "(Epoch 9 / 10) train acc: 0.684000; val_acc: 0.380000"
       ]
      },
      {
       "output_type": "stream",
       "stream": "stdout",
       "text": [
        "\n",
        "(Iteration 361 / 400) loss: 1.077157"
       ]
      },
      {
       "output_type": "stream",
       "stream": "stdout",
       "text": [
        "\n",
        "(Iteration 371 / 400) loss: 0.819510"
       ]
      },
      {
       "output_type": "stream",
       "stream": "stdout",
       "text": [
        "\n",
        "(Iteration 381 / 400) loss: 0.871370"
       ]
      },
      {
       "output_type": "stream",
       "stream": "stdout",
       "text": [
        "\n",
        "(Iteration 391 / 400) loss: 0.656626"
       ]
      },
      {
       "output_type": "stream",
       "stream": "stdout",
       "text": [
        "\n",
        "(Epoch 10 / 10) train acc: 0.717000; val_acc: 0.370000"
       ]
      },
      {
       "output_type": "stream",
       "stream": "stdout",
       "text": [
        "\n",
        "\n"
       ]
      },
      {
       "metadata": {},
       "output_type": "display_data",
       "png": "[encoded data removed]",
       "text": [
        "<matplotlib.figure.Figure at 0x7ff436af4310>"
       ]
      }
     ],
     "prompt_number": 23
    },
    {
     "cell_type": "markdown",
     "metadata": {},
     "source": [
      "# Train a good model!\n",
      "Train the best fully-connected model that you can on CIFAR-10, storing your best model in the `best_model` variable. We require you to get at least 48% accuracy on the validation set using a fully-connected net.\n",
      "\n",
      "You might find it useful to complete the `2_BatchNormalization.ipynb` notebook before completing this part, since this technique can help you train powerful models."
     ]
    },
    {
     "cell_type": "code",
     "collapsed": true,
     "input": [
      "best_model = None\n",
      "################################################################################\n",
      "# TODO: Train the best FullyConnectedNet that you can on CIFAR-10. You might   #\n",
      "# batch normalization and dropout useful. Store your best model in the         #\n",
      "# best_model variable.                                                         #\n",
      "# Note that dropout is not required to pass beyond the linear scoring regime   #\n",
      "################################################################################\n",
      "\n",
      "from itertools import product\n",
      "\n",
      "num_epochs = 20\n",
      "batch_size = 500\n",
      "\n",
      "regs = [1e-5]\n",
      "weight_scales = [1e-3]\n",
      "learning_rates = [1e-4]\n",
      "hyper_params = product(learning_rates, weight_scales, regs)\n",
      "\n",
      "\n",
      "\n",
      "\n",
      "#weight_scale = 5e-2\n",
      "#learning_rate = 1.225e-3 #accuracy with 1.5e-3:48.7%. accuracy with \n",
      "#1.25e-3: 49.2%. accuracy with 1.225e-3 and num_epochs = 6: 49.3%.\n",
      "\n",
      "for i, hp in enumerate(hyper_params):\n",
      "    lr, ws, reg = hp\n",
      "    \n",
      "    model = FullyConnectedNet([100, 75, 50, 25], dropout = 1, \n",
      "                          use_batchnorm = True,\n",
      "              weight_scale=weight_scale, dtype=np.float64)\n",
      "    \n",
      "    solver = Solver(model, data,\n",
      "                print_every = 100, num_epochs = num_epochs #5\n",
      "                , batch_size = batch_size,\n",
      "                update_rule='adam',\n",
      "                optim_config={\n",
      "                  'learning_rate': lr,\n",
      "                }\n",
      "         )\n",
      "solver.train()\n",
      "\n",
      "# accuracy is about 51%. \n",
      "best_model = model \n",
      "################################################################################\n",
      "#                              END OF YOUR CODE                                #\n",
      "################################################################################"
     ],
     "language": "python",
     "metadata": {
      "scrolled": false
     },
     "outputs": [
      {
       "output_type": "stream",
       "stream": "stdout",
       "text": [
        "(Iteration 1 / 1920) loss: 2.347345\n",
        "(Epoch 0 / 20) train acc: 0.124000; val_acc: 0.113000"
       ]
      },
      {
       "output_type": "stream",
       "stream": "stdout",
       "text": [
        "\n",
        "(Epoch 1 / 20) train acc: 0.366000; val_acc: 0.344000"
       ]
      },
      {
       "output_type": "stream",
       "stream": "stdout",
       "text": [
        "\n",
        "(Iteration 101 / 1920) loss: 1.892234"
       ]
      },
      {
       "output_type": "stream",
       "stream": "stdout",
       "text": [
        "\n",
        "(Epoch 2 / 20) train acc: 0.399000; val_acc: 0.395000"
       ]
      },
      {
       "output_type": "stream",
       "stream": "stdout",
       "text": [
        "\n",
        "(Iteration 201 / 1920) loss: 1.616839"
       ]
      },
      {
       "output_type": "stream",
       "stream": "stdout",
       "text": [
        "\n",
        "(Epoch 3 / 20) train acc: 0.412000; val_acc: 0.438000"
       ]
      },
      {
       "output_type": "stream",
       "stream": "stdout",
       "text": [
        "\n",
        "(Iteration 301 / 1920) loss: 1.631646"
       ]
      },
      {
       "output_type": "stream",
       "stream": "stdout",
       "text": [
        "\n",
        "(Epoch 4 / 20) train acc: 0.463000; val_acc: 0.440000"
       ]
      },
      {
       "output_type": "stream",
       "stream": "stdout",
       "text": [
        "\n",
        "(Iteration 401 / 1920) loss: 1.536797"
       ]
      },
      {
       "output_type": "stream",
       "stream": "stdout",
       "text": [
        "\n",
        "(Epoch 5 / 20) train acc: 0.479000; val_acc: 0.463000"
       ]
      },
      {
       "output_type": "stream",
       "stream": "stdout",
       "text": [
        "\n",
        "(Iteration 501 / 1920) loss: 1.472274"
       ]
      },
      {
       "output_type": "stream",
       "stream": "stdout",
       "text": [
        "\n",
        "(Epoch 6 / 20) train acc: 0.496000; val_acc: 0.465000"
       ]
      },
      {
       "output_type": "stream",
       "stream": "stdout",
       "text": [
        "\n",
        "(Iteration 601 / 1920) loss: 1.453963"
       ]
      },
      {
       "output_type": "stream",
       "stream": "stdout",
       "text": [
        "\n",
        "(Epoch 7 / 20) train acc: 0.473000; val_acc: 0.464000"
       ]
      },
      {
       "output_type": "stream",
       "stream": "stdout",
       "text": [
        "\n",
        "(Iteration 701 / 1920) loss: 1.425535"
       ]
      },
      {
       "output_type": "stream",
       "stream": "stdout",
       "text": [
        "\n",
        "(Epoch 8 / 20) train acc: 0.521000; val_acc: 0.474000"
       ]
      },
      {
       "output_type": "stream",
       "stream": "stdout",
       "text": [
        "\n",
        "(Iteration 801 / 1920) loss: 1.382979"
       ]
      },
      {
       "output_type": "stream",
       "stream": "stdout",
       "text": [
        "\n",
        "(Epoch 9 / 20) train acc: 0.495000; val_acc: 0.479000"
       ]
      },
      {
       "output_type": "stream",
       "stream": "stdout",
       "text": [
        "\n",
        "(Iteration 901 / 1920) loss: 1.261782"
       ]
      },
      {
       "output_type": "stream",
       "stream": "stdout",
       "text": [
        "\n",
        "(Epoch 10 / 20) train acc: 0.531000; val_acc: 0.465000"
       ]
      },
      {
       "output_type": "stream",
       "stream": "stdout",
       "text": [
        "\n",
        "(Iteration 1001 / 1920) loss: 1.299711"
       ]
      },
      {
       "output_type": "stream",
       "stream": "stdout",
       "text": [
        "\n",
        "(Epoch 11 / 20) train acc: 0.569000; val_acc: 0.488000"
       ]
      },
      {
       "output_type": "stream",
       "stream": "stdout",
       "text": [
        "\n",
        "(Iteration 1101 / 1920) loss: 1.301881"
       ]
      },
      {
       "output_type": "stream",
       "stream": "stdout",
       "text": [
        "\n",
        "(Epoch 12 / 20) train acc: 0.551000; val_acc: 0.489000"
       ]
      },
      {
       "output_type": "stream",
       "stream": "stdout",
       "text": [
        "\n",
        "(Iteration 1201 / 1920) loss: 1.363538"
       ]
      },
      {
       "output_type": "stream",
       "stream": "stdout",
       "text": [
        "\n",
        "(Epoch 13 / 20) train acc: 0.544000; val_acc: 0.487000"
       ]
      },
      {
       "output_type": "stream",
       "stream": "stdout",
       "text": [
        "\n",
        "(Iteration 1301 / 1920) loss: 1.215268"
       ]
      },
      {
       "output_type": "stream",
       "stream": "stdout",
       "text": [
        "\n",
        "(Epoch 14 / 20) train acc: 0.565000; val_acc: 0.509000"
       ]
      },
      {
       "output_type": "stream",
       "stream": "stdout",
       "text": [
        "\n",
        "(Iteration 1401 / 1920) loss: 1.220977"
       ]
      },
      {
       "output_type": "stream",
       "stream": "stdout",
       "text": [
        "\n",
        "(Epoch 15 / 20) train acc: 0.542000; val_acc: 0.499000"
       ]
      },
      {
       "output_type": "stream",
       "stream": "stdout",
       "text": [
        "\n",
        "(Iteration 1501 / 1920) loss: 1.232951"
       ]
      },
      {
       "output_type": "stream",
       "stream": "stdout",
       "text": [
        "\n",
        "(Epoch 16 / 20) train acc: 0.566000; val_acc: 0.503000"
       ]
      },
      {
       "output_type": "stream",
       "stream": "stdout",
       "text": [
        "\n",
        "(Iteration 1601 / 1920) loss: 1.247227"
       ]
      },
      {
       "output_type": "stream",
       "stream": "stdout",
       "text": [
        "\n",
        "(Epoch 17 / 20) train acc: 0.561000; val_acc: 0.512000"
       ]
      },
      {
       "output_type": "stream",
       "stream": "stdout",
       "text": [
        "\n",
        "(Iteration 1701 / 1920) loss: 1.239302"
       ]
      },
      {
       "output_type": "stream",
       "stream": "stdout",
       "text": [
        "\n",
        "(Epoch 18 / 20) train acc: 0.571000; val_acc: 0.513000"
       ]
      },
      {
       "output_type": "stream",
       "stream": "stdout",
       "text": [
        "\n",
        "(Iteration 1801 / 1920) loss: 1.147624"
       ]
      },
      {
       "output_type": "stream",
       "stream": "stdout",
       "text": [
        "\n",
        "(Epoch 19 / 20) train acc: 0.576000; val_acc: 0.509000"
       ]
      },
      {
       "output_type": "stream",
       "stream": "stdout",
       "text": [
        "\n",
        "(Iteration 1901 / 1920) loss: 1.158432"
       ]
      },
      {
       "output_type": "stream",
       "stream": "stdout",
       "text": [
        "\n",
        "(Epoch 20 / 20) train acc: 0.546000; val_acc: 0.507000"
       ]
      },
      {
       "output_type": "stream",
       "stream": "stdout",
       "text": [
        "\n"
       ]
      }
     ],
     "prompt_number": 24
    },
    {
     "cell_type": "markdown",
     "metadata": {},
     "source": [
      "# Test your model\n",
      "Run your best model on the validation and test sets. You should achieve above 48% accuracy on the validation set."
     ]
    },
    {
     "cell_type": "code",
     "collapsed": true,
     "input": [
      "# place missing variables:\n",
      "X_test, X_val, y_test, y_val = data['X_test'], data['X_val'], data['y_test'], data['y_val']\n",
      "\n",
      "y_test_pred = np.argmax(best_model.loss(X_test), axis=1)\n",
      "y_val_pred = np.argmax(best_model.loss(X_val), axis=1)\n",
      "print 'Validation set accuracy: ', (y_val_pred == y_val).mean()\n",
      "print 'Test set accuracy: ', (y_test_pred == y_test).mean()"
     ],
     "language": "python",
     "metadata": {},
     "outputs": [
      {
       "output_type": "stream",
       "stream": "stdout",
       "text": [
        "Validation set accuracy:  0.513\n",
        "Test set accuracy:  "
       ]
      },
      {
       "output_type": "stream",
       "stream": "stdout",
       "text": [
        "0.5\n"
       ]
      }
     ],
     "prompt_number": 25
    },
    {
     "cell_type": "markdown",
     "metadata": {},
     "source": [
      "## Save the model\n",
      "\n",
      "When you are satisfied with your training, save the model for submission."
     ]
    },
    {
     "cell_type": "code",
     "collapsed": true,
     "input": [
      "from dl4cv.model_savers import save_fully_connected_net\n",
      "save_fully_connected_net(best_model)"
     ],
     "language": "python",
     "metadata": {},
     "outputs": [],
     "prompt_number": 26
    },
    {
     "cell_type": "markdown",
     "metadata": {},
     "source": [
      "## Scoring function\n",
      "We will score the model you have just saved based on the classification accuracy on our test dataset. The scoring function should represent the difficulty of obtaining a good test accuracy and should therefore give 0 points for worse results than random guessing, should be linear in a first regime and exponential beyond that. The onset of exponential growth depends on the problem. In that region you get twice as many points for an additional 10% accuracy.\n",
      "\n",
      "For this problem we specifically use the following scoring function:\n",
      "\n",
      "$$f(x) = \\left\\{\n",
      "\t\\begin{array}{ll}\n",
      "\t\t0  & \\mbox{if } x \\leq 0.1 \\\\\n",
      "\t\t100x & \\mbox{if } 0.1 < x \\leq 0.48 \\\\\n",
      "        \\left(\\frac{48}{\\exp(0.48 \\ln(2)/0.1)}\\right) \\exp(x \\ln(2)/0.1) & \\mbox{if } 0.48 < x \\leq 1\n",
      "\t\\end{array}\n",
      "\\right.$$\n",
      "\n",
      "The function can be plotted in the following cell."
     ]
    },
    {
     "cell_type": "code",
     "collapsed": true,
     "input": [
      "from dl4cv.data_utils import scoring_function\n",
      "\n",
      "x = np.linspace(0, 1, num=1000)\n",
      "plt.plot(x, scoring_function(x, lin_exp_boundary=0.48, doubling_rate=0.1))\n",
      "plt.title('Scoring Function')\n",
      "plt.xlabel('Test Accuracy')\n",
      "plt.ylabel('Score')"
     ],
     "language": "python",
     "metadata": {},
     "outputs": [
      {
       "metadata": {},
       "output_type": "pyout",
       "prompt_number": 27,
       "text": [
        "<matplotlib.text.Text at 0x7ff438bebe50>"
       ]
      },
      {
       "metadata": {},
       "output_type": "display_data",
       "png": "[encoded data removed]",
       "text": [
        "<matplotlib.figure.Figure at 0x7ff460047ad0>"
       ]
      }
     ],
     "prompt_number": 27
    },
    {
     "cell_type": "code",
     "collapsed": false,
     "input": [],
     "language": "python",
     "metadata": {},
     "outputs": []
    }
   ],
   "metadata": {}
  }
 ]
}