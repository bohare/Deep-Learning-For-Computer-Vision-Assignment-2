{
 "metadata": {
  "kernelspec": {
   "display_name": "Python 2",
   "language": "python",
   "name": "python2"
  },
  "language_info": {
   "codemirror_mode": {
    "name": "ipython",
    "version": 2
   },
   "file_extension": ".py",
   "mimetype": "text/x-python",
   "name": "python",
   "nbconvert_exporter": "python",
   "pygments_lexer": "ipython2",
   "version": "2.7.13"
  },
  "name": "",
  "signature": "sha256:5e7b262af7097202752e80880ff944d4ef043df800b4eff32839933ead52f513"
 },
 "nbformat": 3,
 "nbformat_minor": 0,
 "worksheets": [
  {
   "cells": [
    {
     "cell_type": "markdown",
     "metadata": {},
     "source": [
      "# Dropout - *optional exercise*\n",
      "\n",
      "**Note**: This exercise is optional and using dropout is not required to pass beyond the linear regime of the scoring function for your fully connected network.\n",
      "\n",
      "Dropout [1] is a technique for regularizing neural networks by randomly setting some features to zero during the forward pass. In this exercise you will implement a dropout layer and modify your fully-connected network to optionally use dropout.\n",
      "\n",
      "[1] Geoffrey E. Hinton et al, \"Improving neural networks by preventing co-adaptation of feature detectors\", arXiv 2012"
     ]
    },
    {
     "cell_type": "code",
     "collapsed": true,
     "input": [
      "# As usual, a bit of setup\n",
      "\n",
      "import time\n",
      "import numpy as np\n",
      "import matplotlib.pyplot as plt\n",
      "from dl4cv.classifiers.fc_net import *\n",
      "from dl4cv.data_utils import get_CIFAR10_data\n",
      "from dl4cv.gradient_check import eval_numerical_gradient, eval_numerical_gradient_array\n",
      "from dl4cv.solver import Solver\n",
      "\n",
      "%matplotlib inline\n",
      "plt.rcParams['figure.figsize'] = (10.0, 8.0) # set default size of plots\n",
      "plt.rcParams['image.interpolation'] = 'nearest'\n",
      "plt.rcParams['image.cmap'] = 'gray'\n",
      "\n",
      "# for auto-reloading external modules\n",
      "# see http://stackoverflow.com/questions/1907993/autoreload-of-modules-in-ipython\n",
      "%load_ext autoreload\n",
      "%autoreload 2\n",
      "\n",
      "def rel_error(x, y):\n",
      "  \"\"\" returns relative error \"\"\"\n",
      "  return np.max(np.abs(x - y) / (np.maximum(1e-8, np.abs(x) + np.abs(y))))"
     ],
     "language": "python",
     "metadata": {},
     "outputs": [],
     "prompt_number": 1
    },
    {
     "cell_type": "code",
     "collapsed": true,
     "input": [
      "# Load the (preprocessed) CIFAR10 data.\n",
      "\n",
      "data = get_CIFAR10_data()\n",
      "for k, v in data.iteritems():\n",
      "  print '%s: ' % k, v.shape"
     ],
     "language": "python",
     "metadata": {},
     "outputs": [
      {
       "output_type": "stream",
       "stream": "stdout",
       "text": [
        "X_val:  "
       ]
      },
      {
       "output_type": "stream",
       "stream": "stdout",
       "text": [
        "(1000, 3, 32, 32)\n",
        "X_train:  (48000, 3, 32, 32)\n",
        "X_test:  (1000, 3, 32, 32)"
       ]
      },
      {
       "output_type": "stream",
       "stream": "stdout",
       "text": [
        "\n",
        "y_val:  (1000,)\n",
        "y_train:  (48000,)\n",
        "y_test:  (1000,)\n"
       ]
      }
     ],
     "prompt_number": 2
    },
    {
     "cell_type": "markdown",
     "metadata": {},
     "source": [
      "# Dropout forward pass\n",
      "In the file `dl4cv/layers.py`, implement the forward pass for dropout. Since dropout behaves differently during training and testing, make sure to implement the operation for both modes.\n",
      "\n",
      "Once you have done so, run the cell below to test your implementation."
     ]
    },
    {
     "cell_type": "code",
     "collapsed": true,
     "input": [
      "x = np.random.randn(500, 500) + 10\n",
      "\n",
      "for p in [0.3, 0.6, 0.75]:\n",
      "  out, _ = dropout_forward(x, {'mode': 'train', 'p': p})\n",
      "  out_test, _ = dropout_forward(x, {'mode': 'test', 'p': p})\n",
      "\n",
      "  print 'Running tests with p = ', p\n",
      "  print 'Mean of input: ', x.mean()\n",
      "  print 'Mean of train-time output: ', out.mean()\n",
      "  print 'Mean of test-time output: ', out_test.mean()\n",
      "  print 'Fraction of train-time output set to zero: ', (out == 0).mean()\n",
      "  print 'Fraction of test-time output set to zero: ', (out_test == 0).mean()\n",
      "  print"
     ],
     "language": "python",
     "metadata": {},
     "outputs": [
      {
       "output_type": "stream",
       "stream": "stdout",
       "text": [
        "Running tests with p =  0.3\n",
        "Mean of input:  "
       ]
      },
      {
       "output_type": "stream",
       "stream": "stdout",
       "text": [
        "10.0003351572\n",
        "Mean of train-time output:  9.9896274987\n",
        "Mean of test-time output:  10.0003351572\n",
        "Fraction of train-time output set to zero:  "
       ]
      },
      {
       "output_type": "stream",
       "stream": "stdout",
       "text": [
        "0.300744\n",
        "Fraction of test-time output set to zero:  0.0\n",
        "\n",
        "Running tests with p =  0.6\n",
        "Mean of input:  10.0003351572\n",
        "Mean of train-time output:  9.98530399405\n",
        "Mean of test-time output:  10.0003351572\n",
        "Fraction of train-time output set to zero:  0.600676\n",
        "Fraction of test-time output set to zero:  0.0\n",
        "\n",
        "Running tests with p =  0.75\n",
        "Mean of input:  10.0003351572\n",
        "Mean of train-time output:  9.98328330916\n",
        "Mean of test-time output:  10.0003351572\n",
        "Fraction of train-time output set to zero:  0.750424\n",
        "Fraction of test-time output set to zero:  0.0\n",
        "\n"
       ]
      }
     ],
     "prompt_number": 3
    },
    {
     "cell_type": "markdown",
     "metadata": {},
     "source": [
      "# Dropout backward pass\n",
      "In the file `dl4cv/layers.py`, implement the backward pass for dropout. After doing so, run the following cell to numerically gradient-check your implementation."
     ]
    },
    {
     "cell_type": "code",
     "collapsed": true,
     "input": [
      "x = np.random.randn(10, 10) + 10\n",
      "dout = np.random.randn(*x.shape)\n",
      "\n",
      "dropout_param = {'mode': 'train', 'p': 0.8, 'seed': 123}\n",
      "out, cache = dropout_forward(x, dropout_param)\n",
      "dx = dropout_backward(dout, cache)\n",
      "dx_num = eval_numerical_gradient_array(lambda xx: dropout_forward(xx, dropout_param)[0], x, dout)\n",
      "\n",
      "print 'dx relative error: ', rel_error(dx, dx_num)"
     ],
     "language": "python",
     "metadata": {},
     "outputs": [
      {
       "output_type": "stream",
       "stream": "stdout",
       "text": [
        "dx relative error:  "
       ]
      },
      {
       "output_type": "stream",
       "stream": "stdout",
       "text": [
        "1.89290558903e-11\n"
       ]
      }
     ],
     "prompt_number": 4
    },
    {
     "cell_type": "markdown",
     "metadata": {},
     "source": [
      "# Fully-connected nets with Dropout\n",
      "In the file `dl4cv/classifiers/fc_net.py`, modify your implementation to use dropout. Specificially, if the constructor the the net receives a nonzero value for the `dropout` parameter, then the net should add dropout immediately after every ReLU nonlinearity. After doing so, run the following to numerically gradient-check your implementation."
     ]
    },
    {
     "cell_type": "code",
     "collapsed": true,
     "input": [
      "N, D, H1, H2, C = 2, 15, 20, 30, 10\n",
      "X = np.random.randn(N, D)\n",
      "y = np.random.randint(C, size=(N,))\n",
      "\n",
      "for dropout in [0, 0.25, 0.5]:\n",
      "  print 'Running check with dropout = ', dropout\n",
      "  model = FullyConnectedNet([H1, H2], input_dim=D, num_classes=C,\n",
      "                            weight_scale=5e-2, dtype=np.float64,\n",
      "                            dropout=dropout, seed=123)\n",
      "\n",
      "  loss, grads = model.loss(X, y)\n",
      "  print 'Initial loss: ', loss\n",
      "\n",
      "  for name in sorted(grads):\n",
      "    f = lambda _: model.loss(X, y)[0]\n",
      "    grad_num = eval_numerical_gradient(f, model.params[name], verbose=False, h=1e-5)\n",
      "    print '%s relative error: %.2e' % (name, rel_error(grad_num, grads[name]))\n",
      "  print"
     ],
     "language": "python",
     "metadata": {},
     "outputs": [
      {
       "output_type": "stream",
       "stream": "stdout",
       "text": [
        "Running check with dropout =  0\n",
        "Initial loss: "
       ]
      },
      {
       "output_type": "stream",
       "stream": "stdout",
       "text": [
        " 2.3051948274\n",
        "W1 relative error: 2.53e-07"
       ]
      },
      {
       "output_type": "stream",
       "stream": "stdout",
       "text": [
        "\n",
        "W2 relative error: 1.50e-05"
       ]
      },
      {
       "output_type": "stream",
       "stream": "stdout",
       "text": [
        "\n",
        "W3 relative error: 2.75e-07"
       ]
      },
      {
       "output_type": "stream",
       "stream": "stdout",
       "text": [
        "\n",
        "b1 relative error: 2.94e-06\n",
        "b2 relative error: 5.05e-08\n",
        "b3 relative error: 1.17e-10\n",
        "\n",
        "Running check with dropout =  0.25\n",
        "Initial loss:  2.30239323056\n",
        "W1 relative error: 3.39e-07"
       ]
      },
      {
       "output_type": "stream",
       "stream": "stdout",
       "text": [
        "\n",
        "W2 relative error: 2.24e-07"
       ]
      },
      {
       "output_type": "stream",
       "stream": "stdout",
       "text": [
        "\n",
        "W3 relative error: 1.97e-07"
       ]
      },
      {
       "output_type": "stream",
       "stream": "stdout",
       "text": [
        "\n",
        "b1 relative error: 3.68e-08\n",
        "b2 relative error: 5.47e-09\n",
        "b3 relative error: 7.54e-11\n",
        "\n",
        "Running check with dropout =  0.5\n",
        "Initial loss:  2.30134643809\n",
        "W1 relative error: 1.29e-07"
       ]
      },
      {
       "output_type": "stream",
       "stream": "stdout",
       "text": [
        "\n",
        "W2 relative error: 3.95e-07"
       ]
      },
      {
       "output_type": "stream",
       "stream": "stdout",
       "text": [
        "\n",
        "W3 relative error: 4.28e-07"
       ]
      },
      {
       "output_type": "stream",
       "stream": "stdout",
       "text": [
        "\n",
        "b1 relative error: 6.99e-09\n",
        "b2 relative error: 2.82e-09\n",
        "b3 relative error: 8.93e-11\n",
        "\n"
       ]
      }
     ],
     "prompt_number": 5
    },
    {
     "cell_type": "markdown",
     "metadata": {},
     "source": [
      "# Regularization experiment\n",
      "As an experiment, we will train a pair of two-layer networks on 500 training examples: one will use no dropout, and one will use a dropout probability of 0.75. We will then visualize the training and validation accuracies of the two networks over time."
     ]
    },
    {
     "cell_type": "code",
     "collapsed": true,
     "input": [
      "# Train two identical nets, one with dropout and one without\n",
      "\n",
      "num_train = 500\n",
      "small_data = {\n",
      "  'X_train': data['X_train'][:num_train],\n",
      "  'y_train': data['y_train'][:num_train],\n",
      "  'X_val': data['X_val'],\n",
      "  'y_val': data['y_val'],\n",
      "}\n",
      "\n",
      "solvers = {}\n",
      "dropout_choices = [0, 0.25, 0.5, 0.75]\n",
      "for dropout in dropout_choices:\n",
      "  model = FullyConnectedNet([500], dropout=dropout)\n",
      "  print dropout\n",
      "\n",
      "  solver = Solver(model, small_data,\n",
      "                  num_epochs=25, batch_size=100,\n",
      "                  update_rule='adam',\n",
      "                  optim_config={\n",
      "                    'learning_rate': 5e-4,\n",
      "                  },\n",
      "                  verbose=True, print_every=100)\n",
      "  solver.train()\n",
      "  solvers[dropout] = solver"
     ],
     "language": "python",
     "metadata": {
      "scrolled": false
     },
     "outputs": [
      {
       "output_type": "stream",
       "stream": "stdout",
       "text": [
        "0\n",
        "(Iteration 1 / 125) loss: 9.387342"
       ]
      },
      {
       "output_type": "stream",
       "stream": "stdout",
       "text": [
        "\n",
        "(Epoch 0 / 25) train acc: 0.238000; val_acc: 0.167000"
       ]
      },
      {
       "output_type": "stream",
       "stream": "stdout",
       "text": [
        "\n",
        "(Epoch 1 / 25) train acc: 0.364000; val_acc: 0.230000"
       ]
      },
      {
       "output_type": "stream",
       "stream": "stdout",
       "text": [
        "\n",
        "(Epoch 2 / 25) train acc: 0.502000; val_acc: 0.249000"
       ]
      },
      {
       "output_type": "stream",
       "stream": "stdout",
       "text": [
        "\n",
        "(Epoch 3 / 25) train acc: 0.582000; val_acc: 0.225000"
       ]
      },
      {
       "output_type": "stream",
       "stream": "stdout",
       "text": [
        "\n",
        "(Epoch 4 / 25) train acc: 0.630000; val_acc: 0.214000"
       ]
      },
      {
       "output_type": "stream",
       "stream": "stdout",
       "text": [
        "\n",
        "(Epoch 5 / 25) train acc: 0.710000; val_acc: 0.231000"
       ]
      },
      {
       "output_type": "stream",
       "stream": "stdout",
       "text": [
        "\n",
        "(Epoch 6 / 25) train acc: 0.782000; val_acc: 0.258000"
       ]
      },
      {
       "output_type": "stream",
       "stream": "stdout",
       "text": [
        "\n",
        "(Epoch 7 / 25) train acc: 0.764000; val_acc: 0.248000"
       ]
      },
      {
       "output_type": "stream",
       "stream": "stdout",
       "text": [
        "\n",
        "(Epoch 8 / 25) train acc: 0.882000; val_acc: 0.250000"
       ]
      },
      {
       "output_type": "stream",
       "stream": "stdout",
       "text": [
        "\n",
        "(Epoch 9 / 25) train acc: 0.876000; val_acc: 0.252000"
       ]
      },
      {
       "output_type": "stream",
       "stream": "stdout",
       "text": [
        "\n",
        "(Epoch 10 / 25) train acc: 0.914000; val_acc: 0.264000"
       ]
      },
      {
       "output_type": "stream",
       "stream": "stdout",
       "text": [
        "\n",
        "(Epoch 11 / 25) train acc: 0.878000; val_acc: 0.249000"
       ]
      },
      {
       "output_type": "stream",
       "stream": "stdout",
       "text": [
        "\n",
        "(Epoch 12 / 25) train acc: 0.910000; val_acc: 0.266000"
       ]
      },
      {
       "output_type": "stream",
       "stream": "stdout",
       "text": [
        "\n",
        "(Epoch 13 / 25) train acc: 0.896000; val_acc: 0.252000"
       ]
      },
      {
       "output_type": "stream",
       "stream": "stdout",
       "text": [
        "\n",
        "(Epoch 14 / 25) train acc: 0.930000; val_acc: 0.282000"
       ]
      },
      {
       "output_type": "stream",
       "stream": "stdout",
       "text": [
        "\n",
        "(Epoch 15 / 25) train acc: 0.968000; val_acc: 0.273000"
       ]
      },
      {
       "output_type": "stream",
       "stream": "stdout",
       "text": [
        "\n",
        "(Epoch 16 / 25) train acc: 0.958000; val_acc: 0.270000"
       ]
      },
      {
       "output_type": "stream",
       "stream": "stdout",
       "text": [
        "\n",
        "(Epoch 17 / 25) train acc: 0.984000; val_acc: 0.269000"
       ]
      },
      {
       "output_type": "stream",
       "stream": "stdout",
       "text": [
        "\n",
        "(Epoch 18 / 25) train acc: 0.974000; val_acc: 0.256000"
       ]
      },
      {
       "output_type": "stream",
       "stream": "stdout",
       "text": [
        "\n",
        "(Epoch 19 / 25) train acc: 0.974000; val_acc: 0.274000"
       ]
      },
      {
       "output_type": "stream",
       "stream": "stdout",
       "text": [
        "\n",
        "(Epoch 20 / 25) train acc: 0.988000; val_acc: 0.267000"
       ]
      },
      {
       "output_type": "stream",
       "stream": "stdout",
       "text": [
        "\n",
        "(Iteration 101 / 125) loss: 0.008337"
       ]
      },
      {
       "output_type": "stream",
       "stream": "stdout",
       "text": [
        "\n",
        "(Epoch 21 / 25) train acc: 0.972000; val_acc: 0.254000"
       ]
      },
      {
       "output_type": "stream",
       "stream": "stdout",
       "text": [
        "\n",
        "(Epoch 22 / 25) train acc: 0.978000; val_acc: 0.274000"
       ]
      },
      {
       "output_type": "stream",
       "stream": "stdout",
       "text": [
        "\n",
        "(Epoch 23 / 25) train acc: 0.976000; val_acc: 0.262000"
       ]
      },
      {
       "output_type": "stream",
       "stream": "stdout",
       "text": [
        "\n",
        "(Epoch 24 / 25) train acc: 0.996000; val_acc: 0.255000"
       ]
      },
      {
       "output_type": "stream",
       "stream": "stdout",
       "text": [
        "\n",
        "(Epoch 25 / 25) train acc: 0.986000; val_acc: 0.236000"
       ]
      },
      {
       "output_type": "stream",
       "stream": "stdout",
       "text": [
        "\n",
        "0.25"
       ]
      },
      {
       "output_type": "stream",
       "stream": "stdout",
       "text": [
        "\n",
        "(Iteration 1 / 125) loss: 7.646700"
       ]
      },
      {
       "output_type": "stream",
       "stream": "stdout",
       "text": [
        "\n",
        "(Epoch 0 / 25) train acc: 0.234000; val_acc: 0.153000"
       ]
      },
      {
       "output_type": "stream",
       "stream": "stdout",
       "text": [
        "\n",
        "(Epoch 1 / 25) train acc: 0.306000; val_acc: 0.189000"
       ]
      },
      {
       "output_type": "stream",
       "stream": "stdout",
       "text": [
        "\n",
        "(Epoch 2 / 25) train acc: 0.472000; val_acc: 0.216000"
       ]
      },
      {
       "output_type": "stream",
       "stream": "stdout",
       "text": [
        "\n",
        "(Epoch 3 / 25) train acc: 0.570000; val_acc: 0.287000"
       ]
      },
      {
       "output_type": "stream",
       "stream": "stdout",
       "text": [
        "\n",
        "(Epoch 4 / 25) train acc: 0.596000; val_acc: 0.222000"
       ]
      },
      {
       "output_type": "stream",
       "stream": "stdout",
       "text": [
        "\n",
        "(Epoch 5 / 25) train acc: 0.638000; val_acc: 0.219000"
       ]
      },
      {
       "output_type": "stream",
       "stream": "stdout",
       "text": [
        "\n",
        "(Epoch 6 / 25) train acc: 0.716000; val_acc: 0.253000"
       ]
      },
      {
       "output_type": "stream",
       "stream": "stdout",
       "text": [
        "\n",
        "(Epoch 7 / 25) train acc: 0.782000; val_acc: 0.230000"
       ]
      },
      {
       "output_type": "stream",
       "stream": "stdout",
       "text": [
        "\n",
        "(Epoch 8 / 25) train acc: 0.800000; val_acc: 0.268000"
       ]
      },
      {
       "output_type": "stream",
       "stream": "stdout",
       "text": [
        "\n",
        "(Epoch 9 / 25) train acc: 0.848000; val_acc: 0.245000"
       ]
      },
      {
       "output_type": "stream",
       "stream": "stdout",
       "text": [
        "\n",
        "(Epoch 10 / 25) train acc: 0.882000; val_acc: 0.265000"
       ]
      },
      {
       "output_type": "stream",
       "stream": "stdout",
       "text": [
        "\n",
        "(Epoch 11 / 25) train acc: 0.884000; val_acc: 0.229000"
       ]
      },
      {
       "output_type": "stream",
       "stream": "stdout",
       "text": [
        "\n",
        "(Epoch 12 / 25) train acc: 0.946000; val_acc: 0.247000"
       ]
      },
      {
       "output_type": "stream",
       "stream": "stdout",
       "text": [
        "\n",
        "(Epoch 13 / 25) train acc: 0.934000; val_acc: 0.256000"
       ]
      },
      {
       "output_type": "stream",
       "stream": "stdout",
       "text": [
        "\n",
        "(Epoch 14 / 25) train acc: 0.970000; val_acc: 0.271000"
       ]
      },
      {
       "output_type": "stream",
       "stream": "stdout",
       "text": [
        "\n",
        "(Epoch 15 / 25) train acc: 0.964000; val_acc: 0.272000"
       ]
      },
      {
       "output_type": "stream",
       "stream": "stdout",
       "text": [
        "\n",
        "(Epoch 16 / 25) train acc: 0.956000; val_acc: 0.259000"
       ]
      },
      {
       "output_type": "stream",
       "stream": "stdout",
       "text": [
        "\n",
        "(Epoch 17 / 25) train acc: 0.980000; val_acc: 0.270000"
       ]
      },
      {
       "output_type": "stream",
       "stream": "stdout",
       "text": [
        "\n",
        "(Epoch 18 / 25) train acc: 0.966000; val_acc: 0.242000"
       ]
      },
      {
       "output_type": "stream",
       "stream": "stdout",
       "text": [
        "\n",
        "(Epoch 19 / 25) train acc: 0.994000; val_acc: 0.262000"
       ]
      },
      {
       "output_type": "stream",
       "stream": "stdout",
       "text": [
        "\n",
        "(Epoch 20 / 25) train acc: 0.972000; val_acc: 0.254000"
       ]
      },
      {
       "output_type": "stream",
       "stream": "stdout",
       "text": [
        "\n",
        "(Iteration 101 / 125) loss: 0.182073"
       ]
      },
      {
       "output_type": "stream",
       "stream": "stdout",
       "text": [
        "\n",
        "(Epoch 21 / 25) train acc: 0.972000; val_acc: 0.263000"
       ]
      },
      {
       "output_type": "stream",
       "stream": "stdout",
       "text": [
        "\n",
        "(Epoch 22 / 25) train acc: 0.988000; val_acc: 0.269000"
       ]
      },
      {
       "output_type": "stream",
       "stream": "stdout",
       "text": [
        "\n",
        "(Epoch 23 / 25) train acc: 0.986000; val_acc: 0.250000"
       ]
      },
      {
       "output_type": "stream",
       "stream": "stdout",
       "text": [
        "\n",
        "(Epoch 24 / 25) train acc: 0.994000; val_acc: 0.268000"
       ]
      },
      {
       "output_type": "stream",
       "stream": "stdout",
       "text": [
        "\n",
        "(Epoch 25 / 25) train acc: 0.990000; val_acc: 0.282000"
       ]
      },
      {
       "output_type": "stream",
       "stream": "stdout",
       "text": [
        "\n",
        "0.5"
       ]
      },
      {
       "output_type": "stream",
       "stream": "stdout",
       "text": [
        "\n",
        "(Iteration 1 / 125) loss: 8.866586"
       ]
      },
      {
       "output_type": "stream",
       "stream": "stdout",
       "text": [
        "\n",
        "(Epoch 0 / 25) train acc: 0.218000; val_acc: 0.183000"
       ]
      },
      {
       "output_type": "stream",
       "stream": "stdout",
       "text": [
        "\n",
        "(Epoch 1 / 25) train acc: 0.332000; val_acc: 0.210000"
       ]
      },
      {
       "output_type": "stream",
       "stream": "stdout",
       "text": [
        "\n",
        "(Epoch 2 / 25) train acc: 0.472000; val_acc: 0.216000"
       ]
      },
      {
       "output_type": "stream",
       "stream": "stdout",
       "text": [
        "\n",
        "(Epoch 3 / 25) train acc: 0.548000; val_acc: 0.257000"
       ]
      },
      {
       "output_type": "stream",
       "stream": "stdout",
       "text": [
        "\n",
        "(Epoch 4 / 25) train acc: 0.656000; val_acc: 0.253000"
       ]
      },
      {
       "output_type": "stream",
       "stream": "stdout",
       "text": [
        "\n",
        "(Epoch 5 / 25) train acc: 0.736000; val_acc: 0.211000"
       ]
      },
      {
       "output_type": "stream",
       "stream": "stdout",
       "text": [
        "\n",
        "(Epoch 6 / 25) train acc: 0.822000; val_acc: 0.258000"
       ]
      },
      {
       "output_type": "stream",
       "stream": "stdout",
       "text": [
        "\n",
        "(Epoch 7 / 25) train acc: 0.892000; val_acc: 0.249000"
       ]
      },
      {
       "output_type": "stream",
       "stream": "stdout",
       "text": [
        "\n",
        "(Epoch 8 / 25) train acc: 0.870000; val_acc: 0.273000"
       ]
      },
      {
       "output_type": "stream",
       "stream": "stdout",
       "text": [
        "\n",
        "(Epoch 9 / 25) train acc: 0.900000; val_acc: 0.270000"
       ]
      },
      {
       "output_type": "stream",
       "stream": "stdout",
       "text": [
        "\n",
        "(Epoch 10 / 25) train acc: 0.902000; val_acc: 0.263000"
       ]
      },
      {
       "output_type": "stream",
       "stream": "stdout",
       "text": [
        "\n",
        "(Epoch 11 / 25) train acc: 0.918000; val_acc: 0.251000"
       ]
      },
      {
       "output_type": "stream",
       "stream": "stdout",
       "text": [
        "\n",
        "(Epoch 12 / 25) train acc: 0.890000; val_acc: 0.267000"
       ]
      },
      {
       "output_type": "stream",
       "stream": "stdout",
       "text": [
        "\n",
        "(Epoch 13 / 25) train acc: 0.948000; val_acc: 0.284000"
       ]
      },
      {
       "output_type": "stream",
       "stream": "stdout",
       "text": [
        "\n",
        "(Epoch 14 / 25) train acc: 0.938000; val_acc: 0.284000"
       ]
      },
      {
       "output_type": "stream",
       "stream": "stdout",
       "text": [
        "\n",
        "(Epoch 15 / 25) train acc: 0.946000; val_acc: 0.284000"
       ]
      },
      {
       "output_type": "stream",
       "stream": "stdout",
       "text": [
        "\n",
        "(Epoch 16 / 25) train acc: 0.952000; val_acc: 0.268000"
       ]
      },
      {
       "output_type": "stream",
       "stream": "stdout",
       "text": [
        "\n",
        "(Epoch 17 / 25) train acc: 0.952000; val_acc: 0.270000"
       ]
      },
      {
       "output_type": "stream",
       "stream": "stdout",
       "text": [
        "\n",
        "(Epoch 18 / 25) train acc: 0.926000; val_acc: 0.261000"
       ]
      },
      {
       "output_type": "stream",
       "stream": "stdout",
       "text": [
        "\n",
        "(Epoch 19 / 25) train acc: 0.956000; val_acc: 0.267000"
       ]
      },
      {
       "output_type": "stream",
       "stream": "stdout",
       "text": [
        "\n",
        "(Epoch 20 / 25) train acc: 0.992000; val_acc: 0.294000"
       ]
      },
      {
       "output_type": "stream",
       "stream": "stdout",
       "text": [
        "\n",
        "(Iteration 101 / 125) loss: 0.049854"
       ]
      },
      {
       "output_type": "stream",
       "stream": "stdout",
       "text": [
        "\n",
        "(Epoch 21 / 25) train acc: 0.988000; val_acc: 0.291000"
       ]
      },
      {
       "output_type": "stream",
       "stream": "stdout",
       "text": [
        "\n",
        "(Epoch 22 / 25) train acc: 0.988000; val_acc: 0.300000"
       ]
      },
      {
       "output_type": "stream",
       "stream": "stdout",
       "text": [
        "\n",
        "(Epoch 23 / 25) train acc: 0.996000; val_acc: 0.295000"
       ]
      },
      {
       "output_type": "stream",
       "stream": "stdout",
       "text": [
        "\n",
        "(Epoch 24 / 25) train acc: 0.994000; val_acc: 0.285000"
       ]
      },
      {
       "output_type": "stream",
       "stream": "stdout",
       "text": [
        "\n",
        "(Epoch 25 / 25) train acc: 1.000000; val_acc: 0.275000"
       ]
      },
      {
       "output_type": "stream",
       "stream": "stdout",
       "text": [
        "\n",
        "0.75"
       ]
      },
      {
       "output_type": "stream",
       "stream": "stdout",
       "text": [
        "\n",
        "(Iteration 1 / 125) loss: 7.101583"
       ]
      },
      {
       "output_type": "stream",
       "stream": "stdout",
       "text": [
        "\n",
        "(Epoch 0 / 25) train acc: 0.272000; val_acc: 0.214000"
       ]
      },
      {
       "output_type": "stream",
       "stream": "stdout",
       "text": [
        "\n",
        "(Epoch 1 / 25) train acc: 0.368000; val_acc: 0.214000"
       ]
      },
      {
       "output_type": "stream",
       "stream": "stdout",
       "text": [
        "\n",
        "(Epoch 2 / 25) train acc: 0.496000; val_acc: 0.253000"
       ]
      },
      {
       "output_type": "stream",
       "stream": "stdout",
       "text": [
        "\n",
        "(Epoch 3 / 25) train acc: 0.596000; val_acc: 0.230000"
       ]
      },
      {
       "output_type": "stream",
       "stream": "stdout",
       "text": [
        "\n",
        "(Epoch 4 / 25) train acc: 0.660000; val_acc: 0.275000"
       ]
      },
      {
       "output_type": "stream",
       "stream": "stdout",
       "text": [
        "\n",
        "(Epoch 5 / 25) train acc: 0.718000; val_acc: 0.264000"
       ]
      },
      {
       "output_type": "stream",
       "stream": "stdout",
       "text": [
        "\n",
        "(Epoch 6 / 25) train acc: 0.826000; val_acc: 0.251000"
       ]
      },
      {
       "output_type": "stream",
       "stream": "stdout",
       "text": [
        "\n",
        "(Epoch 7 / 25) train acc: 0.862000; val_acc: 0.263000"
       ]
      },
      {
       "output_type": "stream",
       "stream": "stdout",
       "text": [
        "\n",
        "(Epoch 8 / 25) train acc: 0.904000; val_acc: 0.274000"
       ]
      },
      {
       "output_type": "stream",
       "stream": "stdout",
       "text": [
        "\n",
        "(Epoch 9 / 25) train acc: 0.910000; val_acc: 0.254000"
       ]
      },
      {
       "output_type": "stream",
       "stream": "stdout",
       "text": [
        "\n",
        "(Epoch 10 / 25) train acc: 0.916000; val_acc: 0.262000"
       ]
      },
      {
       "output_type": "stream",
       "stream": "stdout",
       "text": [
        "\n",
        "(Epoch 11 / 25) train acc: 0.928000; val_acc: 0.263000"
       ]
      },
      {
       "output_type": "stream",
       "stream": "stdout",
       "text": [
        "\n",
        "(Epoch 12 / 25) train acc: 0.970000; val_acc: 0.262000"
       ]
      },
      {
       "output_type": "stream",
       "stream": "stdout",
       "text": [
        "\n",
        "(Epoch 13 / 25) train acc: 0.976000; val_acc: 0.284000"
       ]
      },
      {
       "output_type": "stream",
       "stream": "stdout",
       "text": [
        "\n",
        "(Epoch 14 / 25) train acc: 0.970000; val_acc: 0.276000"
       ]
      },
      {
       "output_type": "stream",
       "stream": "stdout",
       "text": [
        "\n",
        "(Epoch 15 / 25) train acc: 0.964000; val_acc: 0.259000"
       ]
      },
      {
       "output_type": "stream",
       "stream": "stdout",
       "text": [
        "\n",
        "(Epoch 16 / 25) train acc: 0.966000; val_acc: 0.288000"
       ]
      },
      {
       "output_type": "stream",
       "stream": "stdout",
       "text": [
        "\n",
        "(Epoch 17 / 25) train acc: 0.988000; val_acc: 0.297000"
       ]
      },
      {
       "output_type": "stream",
       "stream": "stdout",
       "text": [
        "\n",
        "(Epoch 18 / 25) train acc: 0.966000; val_acc: 0.267000"
       ]
      },
      {
       "output_type": "stream",
       "stream": "stdout",
       "text": [
        "\n",
        "(Epoch 19 / 25) train acc: 0.976000; val_acc: 0.298000"
       ]
      },
      {
       "output_type": "stream",
       "stream": "stdout",
       "text": [
        "\n",
        "(Epoch 20 / 25) train acc: 0.970000; val_acc: 0.288000"
       ]
      },
      {
       "output_type": "stream",
       "stream": "stdout",
       "text": [
        "\n",
        "(Iteration 101 / 125) loss: 0.211839"
       ]
      },
      {
       "output_type": "stream",
       "stream": "stdout",
       "text": [
        "\n",
        "(Epoch 21 / 25) train acc: 0.938000; val_acc: 0.239000"
       ]
      },
      {
       "output_type": "stream",
       "stream": "stdout",
       "text": [
        "\n",
        "(Epoch 22 / 25) train acc: 0.990000; val_acc: 0.273000"
       ]
      },
      {
       "output_type": "stream",
       "stream": "stdout",
       "text": [
        "\n",
        "(Epoch 23 / 25) train acc: 0.970000; val_acc: 0.268000"
       ]
      },
      {
       "output_type": "stream",
       "stream": "stdout",
       "text": [
        "\n",
        "(Epoch 24 / 25) train acc: 0.976000; val_acc: 0.260000"
       ]
      },
      {
       "output_type": "stream",
       "stream": "stdout",
       "text": [
        "\n",
        "(Epoch 25 / 25) train acc: 0.964000; val_acc: 0.290000"
       ]
      },
      {
       "output_type": "stream",
       "stream": "stdout",
       "text": [
        "\n"
       ]
      }
     ],
     "prompt_number": 8
    },
    {
     "cell_type": "code",
     "collapsed": true,
     "input": [
      "# Plot train and validation accuracies of the two models\n",
      "\n",
      "train_accs = []\n",
      "val_accs = []\n",
      "for dropout in dropout_choices:\n",
      "  solver = solvers[dropout]\n",
      "  train_accs.append(solver.train_acc_history[-1])\n",
      "  val_accs.append(solver.val_acc_history[-1])\n",
      "\n",
      "plt.subplot(3, 1, 1)\n",
      "for dropout in dropout_choices:\n",
      "  plt.plot(solvers[dropout].train_acc_history, 'o', label='%.2f dropout' % dropout)\n",
      "plt.title('Train accuracy')\n",
      "plt.xlabel('Epoch')\n",
      "plt.ylabel('Accuracy')\n",
      "plt.legend(ncol=2, loc='lower right')\n",
      "  \n",
      "plt.subplot(3, 1, 2)\n",
      "for dropout in dropout_choices:\n",
      "  plt.plot(solvers[dropout].val_acc_history, 'o', label='%.2f dropout' % dropout)\n",
      "plt.title('Val accuracy')\n",
      "plt.xlabel('Epoch')\n",
      "plt.ylabel('Accuracy')\n",
      "plt.legend(ncol=2, loc='lower right')\n",
      "\n",
      "plt.gcf().set_size_inches(15, 15)\n",
      "plt.show()"
     ],
     "language": "python",
     "metadata": {},
     "outputs": [
      {
       "metadata": {},
       "output_type": "display_data",
       "png": "[encoded data removed]",
       "text": [
        "<matplotlib.figure.Figure at 0x7f78821f7e50>"
       ]
      }
     ],
     "prompt_number": 9
    },
    {
     "cell_type": "markdown",
     "metadata": {},
     "source": [
      "# Inline question: \n",
      "Describe the results of this experiment and try to reason why you got these results.\n",
      "\n",
      "**Your answer:** *Fill in here*"
     ]
    }
   ],
   "metadata": {}
  }
 ]
}